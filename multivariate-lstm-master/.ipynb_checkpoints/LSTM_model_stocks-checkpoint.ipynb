{
 "cells": [
  {
   "cell_type": "markdown",
   "metadata": {},
   "source": [
    "<p>\n",
    "Prepared by Vytautas Bielinskas. 2020. <br>\n",
    "Download data from: https://finance.yahoo.com/quote/GOOG/history/\n",
    "</p>\n",
    "\n",
    "<h2>PART 1. Data Pre-processing</h2>"
   ]
  },
  {
   "cell_type": "markdown",
   "metadata": {},
   "source": [
    "<h3>Step #0. Fire the system</h3>"
   ]
  },
  {
   "cell_type": "code",
   "execution_count": 1,
   "metadata": {
    "tags": []
   },
   "outputs": [],
   "source": [
    "# Import modules and packages\n",
    "import numpy as np\n",
    "import pandas as pd\n",
    "import matplotlib.pyplot as plt\n",
    "import datetime as dt\n",
    "from datetime import datetime\n",
    "\n",
    "from keras.callbacks import EarlyStopping, ReduceLROnPlateau, ModelCheckpoint, TensorBoard\n",
    "\n",
    "%matplotlib inline"
   ]
  },
  {
   "cell_type": "markdown",
   "metadata": {},
   "source": [
    "<h3>Step #1. Read data</h3>"
   ]
  },
  {
   "cell_type": "code",
   "execution_count": 2,
   "metadata": {
    "tags": []
   },
   "outputs": [
    {
     "name": "stdout",
     "output_type": "stream",
     "text": [
      "Training set shape == (4006, 7)\n",
      "All timestamps == 4006\n",
      "Featured selected: ['Open', 'High', 'Low', 'Close', 'Adj Close']\n"
     ]
    }
   ],
   "source": [
    "# Importing Training Set\n",
    "dataset_train = pd.read_csv('GOOG.csv')\n",
    "\n",
    "# Select features (columns) to be involved intro training and predictions\n",
    "cols = list(dataset_train)[1:6]\n",
    "\n",
    "# Extract dates (will be used in visualization)\n",
    "datelist_train = list(dataset_train['Date'])\n",
    "datelist_train = [dt.datetime.strptime(date, '%Y-%m-%d').date() for date in datelist_train]\n",
    "\n",
    "print('Training set shape == {}'.format(dataset_train.shape))\n",
    "print('All timestamps == {}'.format(len(datelist_train)))\n",
    "print('Featured selected: {}'.format(cols))"
   ]
  },
  {
   "cell_type": "code",
   "execution_count": null,
   "metadata": {},
   "outputs": [],
   "source": [
    "dataset_train"
   ]
  },
  {
   "cell_type": "markdown",
   "metadata": {},
   "source": [
    "<h3>Step #2. Data pre-processing</h3>\n",
    "<p>\n",
    "Removing all commas and convert data to matrix shape format.\n",
    "</p>"
   ]
  },
  {
   "cell_type": "code",
   "execution_count": 4,
   "metadata": {
    "tags": []
   },
   "outputs": [
    {
     "name": "stdout",
     "output_type": "stream",
     "text": [
      "Shape of training set == (4006, 5).\n"
     ]
    },
    {
     "data": {
      "text/plain": [
       "array([[  49.813286,   51.835709,   47.800831,   49.982655,   49.982655],\n",
       "       [  50.316402,   54.336334,   50.062355,   53.95277 ,   53.95277 ],\n",
       "       [  55.168217,   56.528118,   54.321388,   54.495735,   54.495735],\n",
       "       ...,\n",
       "       [1523.130005, 1535.329956, 1498.      , 1513.640015, 1513.640015],\n",
       "       [1500.      , 1518.689941, 1486.310059, 1518.      , 1518.      ],\n",
       "       [1521.619995, 1523.439941, 1498.420044, 1515.550049, 1515.550049]])"
      ]
     },
     "execution_count": 4,
     "metadata": {},
     "output_type": "execute_result"
    }
   ],
   "source": [
    "dataset_train = dataset_train[cols].astype(str)\n",
    "for i in cols:\n",
    "    for j in range(0, len(dataset_train)):\n",
    "        dataset_train[i][j] = dataset_train[i][j].replace(',', '')\n",
    "\n",
    "dataset_train = dataset_train.astype(float)\n",
    "\n",
    "# Using multiple features (predictors)\n",
    "training_set = dataset_train.values\n",
    "\n",
    "print('Shape of training set == {}.'.format(training_set.shape))\n",
    "training_set"
   ]
  },
  {
   "cell_type": "code",
   "execution_count": 5,
   "metadata": {
    "tags": []
   },
   "outputs": [
    {
     "data": {
      "text/plain": [
       "array([[-1.27195197],\n",
       "       [-1.27058974],\n",
       "       [-1.25745309],\n",
       "       ...,\n",
       "       [ 2.71716347],\n",
       "       [ 2.65453724],\n",
       "       [ 2.713075  ]])"
      ]
     },
     "execution_count": 5,
     "metadata": {},
     "output_type": "execute_result"
    }
   ],
   "source": [
    "# Feature Scaling\n",
    "from sklearn.preprocessing import StandardScaler\n",
    "\n",
    "sc = StandardScaler()\n",
    "training_set_scaled = sc.fit_transform(training_set)\n",
    "\n",
    "sc_predict = StandardScaler()\n",
    "sc_predict.fit_transform(training_set[:, 0:1])"
   ]
  },
  {
   "cell_type": "code",
   "execution_count": 6,
   "metadata": {
    "tags": []
   },
   "outputs": [
    {
     "name": "stdout",
     "output_type": "stream",
     "text": [
      "X_train shape == (3857, 90, 4).\n",
      "y_train shape == (3857, 1).\n"
     ]
    }
   ],
   "source": [
    "# Creating a data structure with 90 timestamps and 1 output\n",
    "X_train = []\n",
    "y_train = []\n",
    "\n",
    "n_future = 60   # Number of days we want top predict into the future\n",
    "n_past = 90     # Number of past days we want to use to predict the future\n",
    "\n",
    "for i in range(n_past, len(training_set_scaled) - n_future +1):\n",
    "    X_train.append(training_set_scaled[i - n_past:i, 0:dataset_train.shape[1] - 1])\n",
    "    y_train.append(training_set_scaled[i + n_future - 1:i + n_future, 0])\n",
    "\n",
    "X_train, y_train = np.array(X_train), np.array(y_train)\n",
    "\n",
    "print('X_train shape == {}.'.format(X_train.shape))\n",
    "print('y_train shape == {}.'.format(y_train.shape))"
   ]
  },
  {
   "cell_type": "markdown",
   "metadata": {},
   "source": [
    "<h2>PART 2. Create a model. Training</h2>"
   ]
  },
  {
   "cell_type": "markdown",
   "metadata": {},
   "source": [
    "<h3>Step #3. Building the LSTM based Neural Network</h3>"
   ]
  },
  {
   "cell_type": "code",
   "execution_count": 9,
   "metadata": {},
   "outputs": [],
   "source": [
    "# Import Libraries and packages from Keras\n",
    "from keras.models import Sequential\n",
    "from keras.layers import Dense\n",
    "from keras.layers import LSTM\n",
    "from keras.layers import Dropout\n",
    "from tensorflow.keras.optimizers import Adam"
   ]
  },
  {
   "cell_type": "code",
   "execution_count": 10,
   "metadata": {
    "tags": []
   },
   "outputs": [],
   "source": [
    "# Initializing the Neural Network based on LSTM\n",
    "model = Sequential()\n",
    "\n",
    "# Adding 1st LSTM layer\n",
    "model.add(LSTM(units=64, return_sequences=True, input_shape=(n_past, dataset_train.shape[1]-1)))\n",
    "\n",
    "# Adding 2nd LSTM layer\n",
    "model.add(LSTM(units=10, return_sequences=False))\n",
    "\n",
    "# Adding Dropout\n",
    "model.add(Dropout(0.25))\n",
    "\n",
    "# Output layer\n",
    "model.add(Dense(units=1, activation='linear'))\n",
    "\n",
    "# Compiling the Neural Network\n",
    "model.compile(optimizer = Adam(learning_rate=0.01), loss='mean_squared_error')"
   ]
  },
  {
   "cell_type": "markdown",
   "metadata": {},
   "source": [
    "<h3>Step #4. Start training</h3>"
   ]
  },
  {
   "cell_type": "code",
   "execution_count": null,
   "metadata": {
    "tags": []
   },
   "outputs": [
    {
     "name": "stdout",
     "output_type": "stream",
     "text": [
      "Epoch 1/30\n",
      "12/13 [==========================>...] - ETA: 0s - loss: 0.1138\n",
      "Epoch 1: val_loss improved from inf to 0.61849, saving model to weights.h5\n",
      "13/13 [==============================] - 5s 178ms/step - loss: 0.1135 - val_loss: 0.6185 - lr: 0.0100\n",
      "Epoch 2/30\n",
      "12/13 [==========================>...] - ETA: 0s - loss: 0.0403\n",
      "Epoch 2: val_loss improved from 0.61849 to 0.36549, saving model to weights.h5\n",
      "13/13 [==============================] - 2s 123ms/step - loss: 0.0402 - val_loss: 0.3655 - lr: 0.0100\n",
      "Epoch 3/30\n",
      "12/13 [==========================>...] - ETA: 0s - loss: 0.0356\n",
      "Epoch 3: val_loss did not improve from 0.36549\n",
      "13/13 [==============================] - 2s 116ms/step - loss: 0.0357 - val_loss: 0.4227 - lr: 0.0100\n",
      "Epoch 4/30\n",
      "12/13 [==========================>...] - ETA: 0s - loss: 0.0303\n",
      "Epoch 4: val_loss improved from 0.36549 to 0.36495, saving model to weights.h5\n",
      "13/13 [==============================] - 2s 120ms/step - loss: 0.0304 - val_loss: 0.3649 - lr: 0.0100\n",
      "Epoch 5/30\n",
      "12/13 [==========================>...] - ETA: 0s - loss: 0.0312\n",
      "Epoch 5: val_loss improved from 0.36495 to 0.24372, saving model to weights.h5\n",
      "13/13 [==============================] - 2s 119ms/step - loss: 0.0312 - val_loss: 0.2437 - lr: 0.0100\n",
      "Epoch 6/30\n",
      "12/13 [==========================>...] - ETA: 0s - loss: 0.0283\n",
      "Epoch 6: val_loss improved from 0.24372 to 0.16902, saving model to weights.h5\n",
      "13/13 [==============================] - 2s 123ms/step - loss: 0.0283 - val_loss: 0.1690 - lr: 0.0100\n",
      "Epoch 7/30\n",
      "12/13 [==========================>...] - ETA: 0s - loss: 0.0278\n",
      "Epoch 7: val_loss improved from 0.16902 to 0.13737, saving model to weights.h5\n",
      "13/13 [==============================] - 2s 132ms/step - loss: 0.0278 - val_loss: 0.1374 - lr: 0.0100\n",
      "Epoch 8/30\n",
      "12/13 [==========================>...] - ETA: 0s - loss: 0.0266\n",
      "Epoch 8: val_loss improved from 0.13737 to 0.10580, saving model to weights.h5\n",
      "13/13 [==============================] - 2s 152ms/step - loss: 0.0265 - val_loss: 0.1058 - lr: 0.0100\n",
      "Epoch 9/30\n",
      "12/13 [==========================>...] - ETA: 0s - loss: 0.0266\n",
      "Epoch 9: val_loss did not improve from 0.10580\n",
      "13/13 [==============================] - 2s 137ms/step - loss: 0.0267 - val_loss: 0.1215 - lr: 0.0100\n",
      "Epoch 10/30\n",
      "12/13 [==========================>...] - ETA: 0s - loss: 0.0267\n",
      "Epoch 10: val_loss did not improve from 0.10580\n",
      "13/13 [==============================] - 2s 130ms/step - loss: 0.0267 - val_loss: 0.1545 - lr: 0.0100\n",
      "Epoch 11/30\n",
      "12/13 [==========================>...] - ETA: 0s - loss: 0.0273\n",
      "Epoch 11: val_loss did not improve from 0.10580\n",
      "13/13 [==============================] - 2s 134ms/step - loss: 0.0274 - val_loss: 0.1850 - lr: 0.0100\n",
      "Epoch 12/30\n",
      "12/13 [==========================>...] - ETA: 0s - loss: 0.0321\n",
      "Epoch 12: val_loss did not improve from 0.10580\n",
      "13/13 [==============================] - 2s 140ms/step - loss: 0.0320 - val_loss: 0.4253 - lr: 0.0100\n",
      "Epoch 13/30\n",
      "12/13 [==========================>...] - ETA: 0s - loss: 0.0277\n",
      "Epoch 13: val_loss did not improve from 0.10580\n",
      "13/13 [==============================] - 2s 138ms/step - loss: 0.0276 - val_loss: 0.3672 - lr: 0.0100\n",
      "Epoch 14/30\n",
      "12/13 [==========================>...] - ETA: 0s - loss: 0.0258\n",
      "Epoch 14: val_loss did not improve from 0.10580\n",
      "13/13 [==============================] - 2s 133ms/step - loss: 0.0258 - val_loss: 0.3940 - lr: 0.0100\n",
      "Epoch 15/30\n",
      "12/13 [==========================>...] - ETA: 0s - loss: 0.0261\n",
      "Epoch 15: val_loss did not improve from 0.10580\n",
      "13/13 [==============================] - 2s 137ms/step - loss: 0.0261 - val_loss: 0.1746 - lr: 0.0100\n",
      "Epoch 16/30\n",
      "12/13 [==========================>...] - ETA: 0s - loss: 0.0265"
     ]
    }
   ],
   "source": [
    "%%time\n",
    "es = EarlyStopping(monitor='val_loss', min_delta=1e-10, patience=10, verbose=1)\n",
    "rlr = ReduceLROnPlateau(monitor='val_loss', factor=0.5, patience=10, verbose=1)\n",
    "mcp = ModelCheckpoint(filepath='weights.h5', monitor='val_loss', verbose=1, save_best_only=True, save_weights_only=True)\n",
    "\n",
    "tb = TensorBoard('logs')\n",
    "\n",
    "history = model.fit(X_train, y_train, shuffle=True, epochs=30, callbacks=[es, rlr, mcp, tb], validation_split=0.2, verbose=1, batch_size=256)"
   ]
  },
  {
   "cell_type": "markdown",
   "metadata": {},
   "source": [
    "<p>\n",
    "Notes:<br>\n",
    "<ul>\n",
    "<li><b>EarlyStopping</b> - Stop training when a monitored metric has stopped improving.</li>\n",
    "<li><code>monitor</code> - quantity to be monitored.</li>\n",
    "<li><code>min_delta</code> - minimum change in the monitored quantity to qualify as an improvement, i.e. an absolute change of less than <code>min_delta</code>, will count as no improvement.</li>\n",
    "<li><code>patience</code> - number of epochs with no improvement after which training will be stopped.</li>\n",
    "</ul>\n",
    "\n",
    "<ul>\n",
    "<li><b>ReduceLROnPlateau</b> - Reduce learning rate when a metric has stopped improving.</li>\n",
    "<li><code>factor</code> - factor by which the learning rate will be reduced. <code>new_lr = lr * factor</code>.</li>\n",
    "</ul>\n",
    "</p>\n",
    "\n",
    "<hr>\n",
    "\n",
    "<p>\n",
    "The last date for our training set is <code>30-Dec-2016</code>.<br>\n",
    "</p>\n",
    "\n",
    "<p>\n",
    "We will perform predictions for the next <b>20</b> days, since <b>2017-01-01</b> to <b>2017-01-20</b>.\n",
    "</p>"
   ]
  },
  {
   "cell_type": "markdown",
   "metadata": {},
   "source": [
    "<h2>PART 3. Make future predictions</h2>"
   ]
  },
  {
   "cell_type": "code",
   "execution_count": null,
   "metadata": {},
   "outputs": [],
   "source": [
    "# Generate list of sequence of days for predictions\n",
    "datelist_future = pd.date_range(datelist_train[-1], periods=n_future, freq='1d').tolist()\n",
    "\n",
    "'''\n",
    "Remeber, we have datelist_train from begining.\n",
    "'''\n",
    "\n",
    "# Convert Pandas Timestamp to Datetime object (for transformation) --> FUTURE\n",
    "datelist_future_ = []\n",
    "for this_timestamp in datelist_future:\n",
    "    datelist_future_.append(this_timestamp.date())"
   ]
  },
  {
   "cell_type": "markdown",
   "metadata": {},
   "source": [
    "<h3>Step #5. Make predictions for future dates</h3>"
   ]
  },
  {
   "cell_type": "code",
   "execution_count": null,
   "metadata": {
    "tags": []
   },
   "outputs": [],
   "source": [
    "# Perform predictions\n",
    "predictions_future = model.predict(X_train[-n_future:])\n",
    "\n",
    "predictions_train = model.predict(X_train[n_past:])"
   ]
  },
  {
   "cell_type": "code",
   "execution_count": null,
   "metadata": {
    "tags": []
   },
   "outputs": [],
   "source": [
    "# Inverse the predictions to original measurements\n",
    "\n",
    "# ---> Special function: convert <datetime.date> to <Timestamp>\n",
    "def datetime_to_timestamp(x):\n",
    "    '''\n",
    "        x : a given datetime value (datetime.date)\n",
    "    '''\n",
    "    return datetime.strptime(x.strftime('%Y%m%d'), '%Y%m%d')\n",
    "\n",
    "\n",
    "y_pred_future = sc_predict.inverse_transform(predictions_future)\n",
    "y_pred_train = sc_predict.inverse_transform(predictions_train)\n",
    "\n",
    "PREDICTIONS_FUTURE = pd.DataFrame(y_pred_future, columns=['Open']).set_index(pd.Series(datelist_future))\n",
    "PREDICTION_TRAIN = pd.DataFrame(y_pred_train, columns=['Open']).set_index(pd.Series(datelist_train[2 * n_past + n_future -1:]))\n",
    "\n",
    "# Convert <datetime.date> to <Timestamp> for PREDCITION_TRAIN\n",
    "PREDICTION_TRAIN.index = PREDICTION_TRAIN.index.to_series().apply(datetime_to_timestamp)\n",
    "\n",
    "PREDICTION_TRAIN.head(3)"
   ]
  },
  {
   "cell_type": "markdown",
   "metadata": {},
   "source": [
    "<h3>Step #6. Visualize the Predictions</h3>"
   ]
  },
  {
   "cell_type": "code",
   "execution_count": null,
   "metadata": {},
   "outputs": [],
   "source": [
    "# Set plot size \n",
    "from pylab import rcParams\n",
    "rcParams['figure.figsize'] = 14, 5\n",
    "\n",
    "# Plot parameters\n",
    "START_DATE_FOR_PLOTTING = '2012-06-01'\n",
    "\n",
    "plt.plot(PREDICTIONS_FUTURE.index, PREDICTIONS_FUTURE['Open'], color='r', label='Predicted Stock Price')\n",
    "plt.plot(PREDICTION_TRAIN.loc[START_DATE_FOR_PLOTTING:].index, PREDICTION_TRAIN.loc[START_DATE_FOR_PLOTTING:]['Open'], color='orange', label='Training predictions')\n",
    "plt.plot(dataset_train.loc[START_DATE_FOR_PLOTTING:].index, dataset_train.loc[START_DATE_FOR_PLOTTING:]['Open'], color='b', label='Actual Stock Price')\n",
    "\n",
    "plt.axvline(x = min(PREDICTIONS_FUTURE.index), color='green', linewidth=2, linestyle='--')\n",
    "\n",
    "plt.grid(which='major', color='#cccccc', alpha=0.5)\n",
    "\n",
    "plt.legend(shadow=True)\n",
    "plt.title('Predcitions and Acutal Stock Prices', family='Arial', fontsize=12)\n",
    "plt.xlabel('Timeline', family='Arial', fontsize=10)\n",
    "plt.ylabel('Stock Price Value', family='Arial', fontsize=10)\n",
    "plt.xticks(rotation=45, fontsize=8)\n",
    "plt.show()"
   ]
  },
  {
   "cell_type": "code",
   "execution_count": null,
   "metadata": {
    "tags": []
   },
   "outputs": [],
   "source": [
    "# Parse training set timestamp for better visualization\n",
    "dataset_train = pd.DataFrame(dataset_train, columns=cols)\n",
    "dataset_train.index = datelist_train\n",
    "dataset_train.index = pd.to_datetime(dataset_train.index)"
   ]
  }
 ],
 "metadata": {
  "kernelspec": {
   "display_name": "Python 3",
   "language": "python",
   "name": "python3"
  },
  "language_info": {
   "codemirror_mode": {
    "name": "ipython",
    "version": 3
   },
   "file_extension": ".py",
   "mimetype": "text/x-python",
   "name": "python",
   "nbconvert_exporter": "python",
   "pygments_lexer": "ipython3",
   "version": "3.8.8"
  }
 },
 "nbformat": 4,
 "nbformat_minor": 2
}
