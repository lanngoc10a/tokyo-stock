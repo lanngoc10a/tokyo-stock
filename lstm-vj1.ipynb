{
 "cells": [
  {
   "cell_type": "code",
   "execution_count": 1,
   "metadata": {
    "_cell_guid": "b1076dfc-b9ad-4769-8c92-a6c4dae69d19",
    "_uuid": "8f2839f25d086af736a60e9eeb907d3b93b6e0e5"
   },
   "outputs": [],
   "source": [
    "# This Python 3 environment comes with many helpful analytics libraries installed\n",
    "# It is defined by the kaggle/python Docker image: https://github.com/kaggle/docker-python\n",
    "# For example, here's several helpful packages to load\n",
    "\n",
    "import numpy as np # linear algebra\n",
    "import pandas as pd # data processing, CSV file I/O (e.g. pd.read_csv)\n",
    "\n",
    "# Input data files are available in the read-only \"../input/\" directory\n",
    "# For example, running this (by clicking run or pressing Shift+Enter) will list all files under the input directory\n",
    "\n",
    "import os\n",
    "#for dirname, _, filenames in os.walk('/kaggle/input'):\n",
    "#    for filename in filenames:\n",
    "#        print(os.path.join(dirname, filename))\n",
    "\n",
    "# You can write up to 20GB to the current directory (/kaggle/working/) that gets preserved as output when you create a version using \"Save & Run All\" \n",
    "# You can also write temporary files to /kaggle/temp/, but they won't be saved outside of the current session"
   ]
  },
  {
   "cell_type": "code",
   "execution_count": 2,
   "metadata": {},
   "outputs": [],
   "source": [
    "# Make sure that you have all these libaries available to run the code successfully\n",
    "#from pandas_datareader import data\n",
    "import matplotlib.pyplot as plt\n",
    "import pandas as pd\n",
    "import datetime as dt\n",
    "import urllib.request, json\n",
    "import os\n",
    "import numpy as np\n",
    "import tensorflow as tf # This code has been tested with TensorFlow 1.6\n",
    "from sklearn.preprocessing import MinMaxScaler"
   ]
  },
  {
   "cell_type": "code",
   "execution_count": 3,
   "metadata": {},
   "outputs": [
    {
     "data": {
      "text/plain": [
       "'/Users/lan/Downloads/Github'"
      ]
     },
     "execution_count": 3,
     "metadata": {},
     "output_type": "execute_result"
    },
    {
     "data": {
      "text/plain": [
       "'/Users/lan/Downloads/Github'"
      ]
     },
     "execution_count": 3,
     "metadata": {},
     "output_type": "execute_result"
    }
   ],
   "source": [
    "pwd!"
   ]
  },
  {
   "cell_type": "code",
   "execution_count": 4,
   "metadata": {},
   "outputs": [],
   "source": [
    "df = pd.read_csv(\"Kaggle/jpx-tokyo-stock-exchange-prediction/train_files/stock_prices.csv\")\n",
    "#df= pd.read_csv(\"/kaggle/input/jpx-tokyo-stock-exchange-prediction/train_files/stock_prices.csv\")"
   ]
  },
  {
   "cell_type": "code",
   "execution_count": 5,
   "metadata": {
    "scrolled": true
   },
   "outputs": [
    {
     "data": {
      "text/html": [
       "<div>\n",
       "<style scoped>\n",
       "    .dataframe tbody tr th:only-of-type {\n",
       "        vertical-align: middle;\n",
       "    }\n",
       "\n",
       "    .dataframe tbody tr th {\n",
       "        vertical-align: top;\n",
       "    }\n",
       "\n",
       "    .dataframe thead th {\n",
       "        text-align: right;\n",
       "    }\n",
       "</style>\n",
       "<table border=\"1\" class=\"dataframe\">\n",
       "  <thead>\n",
       "    <tr style=\"text-align: right;\">\n",
       "      <th></th>\n",
       "      <th>RowId</th>\n",
       "      <th>Date</th>\n",
       "      <th>SecuritiesCode</th>\n",
       "      <th>Open</th>\n",
       "      <th>High</th>\n",
       "      <th>Low</th>\n",
       "      <th>Close</th>\n",
       "      <th>Volume</th>\n",
       "      <th>AdjustmentFactor</th>\n",
       "      <th>ExpectedDividend</th>\n",
       "      <th>SupervisionFlag</th>\n",
       "      <th>Target</th>\n",
       "    </tr>\n",
       "  </thead>\n",
       "  <tbody>\n",
       "    <tr>\n",
       "      <th>0</th>\n",
       "      <td>20170104_1301</td>\n",
       "      <td>2017-01-04</td>\n",
       "      <td>1301</td>\n",
       "      <td>2734.0</td>\n",
       "      <td>2755.0</td>\n",
       "      <td>2730.0</td>\n",
       "      <td>2742.0</td>\n",
       "      <td>31400</td>\n",
       "      <td>1.0</td>\n",
       "      <td>NaN</td>\n",
       "      <td>False</td>\n",
       "      <td>0.000730</td>\n",
       "    </tr>\n",
       "    <tr>\n",
       "      <th>1</th>\n",
       "      <td>20170104_1332</td>\n",
       "      <td>2017-01-04</td>\n",
       "      <td>1332</td>\n",
       "      <td>568.0</td>\n",
       "      <td>576.0</td>\n",
       "      <td>563.0</td>\n",
       "      <td>571.0</td>\n",
       "      <td>2798500</td>\n",
       "      <td>1.0</td>\n",
       "      <td>NaN</td>\n",
       "      <td>False</td>\n",
       "      <td>0.012324</td>\n",
       "    </tr>\n",
       "    <tr>\n",
       "      <th>2</th>\n",
       "      <td>20170104_1333</td>\n",
       "      <td>2017-01-04</td>\n",
       "      <td>1333</td>\n",
       "      <td>3150.0</td>\n",
       "      <td>3210.0</td>\n",
       "      <td>3140.0</td>\n",
       "      <td>3210.0</td>\n",
       "      <td>270800</td>\n",
       "      <td>1.0</td>\n",
       "      <td>NaN</td>\n",
       "      <td>False</td>\n",
       "      <td>0.006154</td>\n",
       "    </tr>\n",
       "    <tr>\n",
       "      <th>3</th>\n",
       "      <td>20170104_1376</td>\n",
       "      <td>2017-01-04</td>\n",
       "      <td>1376</td>\n",
       "      <td>1510.0</td>\n",
       "      <td>1550.0</td>\n",
       "      <td>1510.0</td>\n",
       "      <td>1550.0</td>\n",
       "      <td>11300</td>\n",
       "      <td>1.0</td>\n",
       "      <td>NaN</td>\n",
       "      <td>False</td>\n",
       "      <td>0.011053</td>\n",
       "    </tr>\n",
       "    <tr>\n",
       "      <th>4</th>\n",
       "      <td>20170104_1377</td>\n",
       "      <td>2017-01-04</td>\n",
       "      <td>1377</td>\n",
       "      <td>3270.0</td>\n",
       "      <td>3350.0</td>\n",
       "      <td>3270.0</td>\n",
       "      <td>3330.0</td>\n",
       "      <td>150800</td>\n",
       "      <td>1.0</td>\n",
       "      <td>NaN</td>\n",
       "      <td>False</td>\n",
       "      <td>0.003026</td>\n",
       "    </tr>\n",
       "  </tbody>\n",
       "</table>\n",
       "</div>"
      ],
      "text/plain": [
       "           RowId        Date  SecuritiesCode    Open    High     Low   Close  \\\n",
       "0  20170104_1301  2017-01-04            1301  2734.0  2755.0  2730.0  2742.0   \n",
       "1  20170104_1332  2017-01-04            1332   568.0   576.0   563.0   571.0   \n",
       "2  20170104_1333  2017-01-04            1333  3150.0  3210.0  3140.0  3210.0   \n",
       "3  20170104_1376  2017-01-04            1376  1510.0  1550.0  1510.0  1550.0   \n",
       "4  20170104_1377  2017-01-04            1377  3270.0  3350.0  3270.0  3330.0   \n",
       "\n",
       "    Volume  AdjustmentFactor  ExpectedDividend  SupervisionFlag    Target  \n",
       "0    31400               1.0               NaN            False  0.000730  \n",
       "1  2798500               1.0               NaN            False  0.012324  \n",
       "2   270800               1.0               NaN            False  0.006154  \n",
       "3    11300               1.0               NaN            False  0.011053  \n",
       "4   150800               1.0               NaN            False  0.003026  "
      ]
     },
     "execution_count": 5,
     "metadata": {},
     "output_type": "execute_result"
    },
    {
     "data": {
      "text/html": [
       "<div>\n",
       "<style scoped>\n",
       "    .dataframe tbody tr th:only-of-type {\n",
       "        vertical-align: middle;\n",
       "    }\n",
       "\n",
       "    .dataframe tbody tr th {\n",
       "        vertical-align: top;\n",
       "    }\n",
       "\n",
       "    .dataframe thead th {\n",
       "        text-align: right;\n",
       "    }\n",
       "</style>\n",
       "<table border=\"1\" class=\"dataframe\">\n",
       "  <thead>\n",
       "    <tr style=\"text-align: right;\">\n",
       "      <th></th>\n",
       "      <th>RowId</th>\n",
       "      <th>Date</th>\n",
       "      <th>SecuritiesCode</th>\n",
       "      <th>Open</th>\n",
       "      <th>High</th>\n",
       "      <th>Low</th>\n",
       "      <th>Close</th>\n",
       "      <th>Volume</th>\n",
       "      <th>AdjustmentFactor</th>\n",
       "      <th>ExpectedDividend</th>\n",
       "      <th>SupervisionFlag</th>\n",
       "      <th>Target</th>\n",
       "    </tr>\n",
       "  </thead>\n",
       "  <tbody>\n",
       "    <tr>\n",
       "      <th>0</th>\n",
       "      <td>20170104_1301</td>\n",
       "      <td>2017-01-04</td>\n",
       "      <td>1301</td>\n",
       "      <td>2734.0</td>\n",
       "      <td>2755.0</td>\n",
       "      <td>2730.0</td>\n",
       "      <td>2742.0</td>\n",
       "      <td>31400</td>\n",
       "      <td>1.0</td>\n",
       "      <td>NaN</td>\n",
       "      <td>False</td>\n",
       "      <td>0.000730</td>\n",
       "    </tr>\n",
       "    <tr>\n",
       "      <th>1</th>\n",
       "      <td>20170104_1332</td>\n",
       "      <td>2017-01-04</td>\n",
       "      <td>1332</td>\n",
       "      <td>568.0</td>\n",
       "      <td>576.0</td>\n",
       "      <td>563.0</td>\n",
       "      <td>571.0</td>\n",
       "      <td>2798500</td>\n",
       "      <td>1.0</td>\n",
       "      <td>NaN</td>\n",
       "      <td>False</td>\n",
       "      <td>0.012324</td>\n",
       "    </tr>\n",
       "    <tr>\n",
       "      <th>2</th>\n",
       "      <td>20170104_1333</td>\n",
       "      <td>2017-01-04</td>\n",
       "      <td>1333</td>\n",
       "      <td>3150.0</td>\n",
       "      <td>3210.0</td>\n",
       "      <td>3140.0</td>\n",
       "      <td>3210.0</td>\n",
       "      <td>270800</td>\n",
       "      <td>1.0</td>\n",
       "      <td>NaN</td>\n",
       "      <td>False</td>\n",
       "      <td>0.006154</td>\n",
       "    </tr>\n",
       "    <tr>\n",
       "      <th>3</th>\n",
       "      <td>20170104_1376</td>\n",
       "      <td>2017-01-04</td>\n",
       "      <td>1376</td>\n",
       "      <td>1510.0</td>\n",
       "      <td>1550.0</td>\n",
       "      <td>1510.0</td>\n",
       "      <td>1550.0</td>\n",
       "      <td>11300</td>\n",
       "      <td>1.0</td>\n",
       "      <td>NaN</td>\n",
       "      <td>False</td>\n",
       "      <td>0.011053</td>\n",
       "    </tr>\n",
       "    <tr>\n",
       "      <th>4</th>\n",
       "      <td>20170104_1377</td>\n",
       "      <td>2017-01-04</td>\n",
       "      <td>1377</td>\n",
       "      <td>3270.0</td>\n",
       "      <td>3350.0</td>\n",
       "      <td>3270.0</td>\n",
       "      <td>3330.0</td>\n",
       "      <td>150800</td>\n",
       "      <td>1.0</td>\n",
       "      <td>NaN</td>\n",
       "      <td>False</td>\n",
       "      <td>0.003026</td>\n",
       "    </tr>\n",
       "  </tbody>\n",
       "</table>\n",
       "</div>"
      ],
      "text/plain": [
       "           RowId        Date  SecuritiesCode    Open    High     Low   Close  \\\n",
       "0  20170104_1301  2017-01-04            1301  2734.0  2755.0  2730.0  2742.0   \n",
       "1  20170104_1332  2017-01-04            1332   568.0   576.0   563.0   571.0   \n",
       "2  20170104_1333  2017-01-04            1333  3150.0  3210.0  3140.0  3210.0   \n",
       "3  20170104_1376  2017-01-04            1376  1510.0  1550.0  1510.0  1550.0   \n",
       "4  20170104_1377  2017-01-04            1377  3270.0  3350.0  3270.0  3330.0   \n",
       "\n",
       "    Volume  AdjustmentFactor  ExpectedDividend  SupervisionFlag    Target  \n",
       "0    31400               1.0               NaN            False  0.000730  \n",
       "1  2798500               1.0               NaN            False  0.012324  \n",
       "2   270800               1.0               NaN            False  0.006154  \n",
       "3    11300               1.0               NaN            False  0.011053  \n",
       "4   150800               1.0               NaN            False  0.003026  "
      ]
     },
     "execution_count": 5,
     "metadata": {},
     "output_type": "execute_result"
    }
   ],
   "source": [
    "df.head()"
   ]
  },
  {
   "cell_type": "code",
   "execution_count": 6,
   "metadata": {},
   "outputs": [
    {
     "data": {
      "text/plain": [
       "(2332531, 12)"
      ]
     },
     "execution_count": 6,
     "metadata": {},
     "output_type": "execute_result"
    },
    {
     "data": {
      "text/plain": [
       "(2332531, 12)"
      ]
     },
     "execution_count": 6,
     "metadata": {},
     "output_type": "execute_result"
    }
   ],
   "source": [
    "df.shape"
   ]
  },
  {
   "cell_type": "code",
   "execution_count": 7,
   "metadata": {
    "scrolled": true
   },
   "outputs": [
    {
     "data": {
      "text/html": [
       "<div>\n",
       "<style scoped>\n",
       "    .dataframe tbody tr th:only-of-type {\n",
       "        vertical-align: middle;\n",
       "    }\n",
       "\n",
       "    .dataframe tbody tr th {\n",
       "        vertical-align: top;\n",
       "    }\n",
       "\n",
       "    .dataframe thead th {\n",
       "        text-align: right;\n",
       "    }\n",
       "</style>\n",
       "<table border=\"1\" class=\"dataframe\">\n",
       "  <thead>\n",
       "    <tr style=\"text-align: right;\">\n",
       "      <th></th>\n",
       "      <th>RowId</th>\n",
       "      <th>Date</th>\n",
       "      <th>SecuritiesCode</th>\n",
       "      <th>Open</th>\n",
       "      <th>High</th>\n",
       "      <th>Low</th>\n",
       "      <th>Close</th>\n",
       "      <th>Volume</th>\n",
       "      <th>AdjustmentFactor</th>\n",
       "      <th>ExpectedDividend</th>\n",
       "      <th>SupervisionFlag</th>\n",
       "      <th>Target</th>\n",
       "    </tr>\n",
       "  </thead>\n",
       "  <tbody>\n",
       "    <tr>\n",
       "      <th>1</th>\n",
       "      <td>20170104_1332</td>\n",
       "      <td>2017-01-04</td>\n",
       "      <td>1332</td>\n",
       "      <td>568.0</td>\n",
       "      <td>576.0</td>\n",
       "      <td>563.0</td>\n",
       "      <td>571.0</td>\n",
       "      <td>2798500</td>\n",
       "      <td>1.0</td>\n",
       "      <td>NaN</td>\n",
       "      <td>False</td>\n",
       "      <td>0.012324</td>\n",
       "    </tr>\n",
       "    <tr>\n",
       "      <th>1866</th>\n",
       "      <td>20170105_1332</td>\n",
       "      <td>2017-01-05</td>\n",
       "      <td>1332</td>\n",
       "      <td>572.0</td>\n",
       "      <td>573.0</td>\n",
       "      <td>565.0</td>\n",
       "      <td>568.0</td>\n",
       "      <td>2162900</td>\n",
       "      <td>1.0</td>\n",
       "      <td>NaN</td>\n",
       "      <td>False</td>\n",
       "      <td>-0.022609</td>\n",
       "    </tr>\n",
       "    <tr>\n",
       "      <th>3731</th>\n",
       "      <td>20170106_1332</td>\n",
       "      <td>2017-01-06</td>\n",
       "      <td>1332</td>\n",
       "      <td>567.0</td>\n",
       "      <td>576.0</td>\n",
       "      <td>563.0</td>\n",
       "      <td>575.0</td>\n",
       "      <td>2125600</td>\n",
       "      <td>1.0</td>\n",
       "      <td>NaN</td>\n",
       "      <td>False</td>\n",
       "      <td>-0.016014</td>\n",
       "    </tr>\n",
       "    <tr>\n",
       "      <th>5596</th>\n",
       "      <td>20170110_1332</td>\n",
       "      <td>2017-01-10</td>\n",
       "      <td>1332</td>\n",
       "      <td>573.0</td>\n",
       "      <td>576.0</td>\n",
       "      <td>561.0</td>\n",
       "      <td>562.0</td>\n",
       "      <td>2744600</td>\n",
       "      <td>1.0</td>\n",
       "      <td>NaN</td>\n",
       "      <td>False</td>\n",
       "      <td>-0.016275</td>\n",
       "    </tr>\n",
       "    <tr>\n",
       "      <th>7461</th>\n",
       "      <td>20170111_1332</td>\n",
       "      <td>2017-01-11</td>\n",
       "      <td>1332</td>\n",
       "      <td>559.0</td>\n",
       "      <td>562.0</td>\n",
       "      <td>551.0</td>\n",
       "      <td>553.0</td>\n",
       "      <td>2231800</td>\n",
       "      <td>1.0</td>\n",
       "      <td>NaN</td>\n",
       "      <td>False</td>\n",
       "      <td>0.016544</td>\n",
       "    </tr>\n",
       "    <tr>\n",
       "      <th>...</th>\n",
       "      <td>...</td>\n",
       "      <td>...</td>\n",
       "      <td>...</td>\n",
       "      <td>...</td>\n",
       "      <td>...</td>\n",
       "      <td>...</td>\n",
       "      <td>...</td>\n",
       "      <td>...</td>\n",
       "      <td>...</td>\n",
       "      <td>...</td>\n",
       "      <td>...</td>\n",
       "      <td>...</td>\n",
       "    </tr>\n",
       "    <tr>\n",
       "      <th>2322532</th>\n",
       "      <td>20211129_1332</td>\n",
       "      <td>2021-11-29</td>\n",
       "      <td>1332</td>\n",
       "      <td>579.0</td>\n",
       "      <td>579.0</td>\n",
       "      <td>567.0</td>\n",
       "      <td>567.0</td>\n",
       "      <td>1607200</td>\n",
       "      <td>1.0</td>\n",
       "      <td>NaN</td>\n",
       "      <td>False</td>\n",
       "      <td>0.001745</td>\n",
       "    </tr>\n",
       "    <tr>\n",
       "      <th>2324532</th>\n",
       "      <td>20211130_1332</td>\n",
       "      <td>2021-11-30</td>\n",
       "      <td>1332</td>\n",
       "      <td>580.0</td>\n",
       "      <td>590.0</td>\n",
       "      <td>573.0</td>\n",
       "      <td>573.0</td>\n",
       "      <td>2732300</td>\n",
       "      <td>1.0</td>\n",
       "      <td>NaN</td>\n",
       "      <td>False</td>\n",
       "      <td>-0.001742</td>\n",
       "    </tr>\n",
       "    <tr>\n",
       "      <th>2326532</th>\n",
       "      <td>20211201_1332</td>\n",
       "      <td>2021-12-01</td>\n",
       "      <td>1332</td>\n",
       "      <td>568.0</td>\n",
       "      <td>578.0</td>\n",
       "      <td>568.0</td>\n",
       "      <td>574.0</td>\n",
       "      <td>1661300</td>\n",
       "      <td>1.0</td>\n",
       "      <td>NaN</td>\n",
       "      <td>False</td>\n",
       "      <td>0.020942</td>\n",
       "    </tr>\n",
       "    <tr>\n",
       "      <th>2328532</th>\n",
       "      <td>20211202_1332</td>\n",
       "      <td>2021-12-02</td>\n",
       "      <td>1332</td>\n",
       "      <td>566.0</td>\n",
       "      <td>577.0</td>\n",
       "      <td>565.0</td>\n",
       "      <td>573.0</td>\n",
       "      <td>1525800</td>\n",
       "      <td>1.0</td>\n",
       "      <td>NaN</td>\n",
       "      <td>False</td>\n",
       "      <td>0.006838</td>\n",
       "    </tr>\n",
       "    <tr>\n",
       "      <th>2330532</th>\n",
       "      <td>20211203_1332</td>\n",
       "      <td>2021-12-03</td>\n",
       "      <td>1332</td>\n",
       "      <td>579.0</td>\n",
       "      <td>585.0</td>\n",
       "      <td>570.0</td>\n",
       "      <td>585.0</td>\n",
       "      <td>1195500</td>\n",
       "      <td>1.0</td>\n",
       "      <td>NaN</td>\n",
       "      <td>False</td>\n",
       "      <td>-0.056027</td>\n",
       "    </tr>\n",
       "  </tbody>\n",
       "</table>\n",
       "<p>1202 rows × 12 columns</p>\n",
       "</div>"
      ],
      "text/plain": [
       "                 RowId        Date  SecuritiesCode   Open   High    Low  \\\n",
       "1        20170104_1332  2017-01-04            1332  568.0  576.0  563.0   \n",
       "1866     20170105_1332  2017-01-05            1332  572.0  573.0  565.0   \n",
       "3731     20170106_1332  2017-01-06            1332  567.0  576.0  563.0   \n",
       "5596     20170110_1332  2017-01-10            1332  573.0  576.0  561.0   \n",
       "7461     20170111_1332  2017-01-11            1332  559.0  562.0  551.0   \n",
       "...                ...         ...             ...    ...    ...    ...   \n",
       "2322532  20211129_1332  2021-11-29            1332  579.0  579.0  567.0   \n",
       "2324532  20211130_1332  2021-11-30            1332  580.0  590.0  573.0   \n",
       "2326532  20211201_1332  2021-12-01            1332  568.0  578.0  568.0   \n",
       "2328532  20211202_1332  2021-12-02            1332  566.0  577.0  565.0   \n",
       "2330532  20211203_1332  2021-12-03            1332  579.0  585.0  570.0   \n",
       "\n",
       "         Close   Volume  AdjustmentFactor  ExpectedDividend  SupervisionFlag  \\\n",
       "1        571.0  2798500               1.0               NaN            False   \n",
       "1866     568.0  2162900               1.0               NaN            False   \n",
       "3731     575.0  2125600               1.0               NaN            False   \n",
       "5596     562.0  2744600               1.0               NaN            False   \n",
       "7461     553.0  2231800               1.0               NaN            False   \n",
       "...        ...      ...               ...               ...              ...   \n",
       "2322532  567.0  1607200               1.0               NaN            False   \n",
       "2324532  573.0  2732300               1.0               NaN            False   \n",
       "2326532  574.0  1661300               1.0               NaN            False   \n",
       "2328532  573.0  1525800               1.0               NaN            False   \n",
       "2330532  585.0  1195500               1.0               NaN            False   \n",
       "\n",
       "           Target  \n",
       "1        0.012324  \n",
       "1866    -0.022609  \n",
       "3731    -0.016014  \n",
       "5596    -0.016275  \n",
       "7461     0.016544  \n",
       "...           ...  \n",
       "2322532  0.001745  \n",
       "2324532 -0.001742  \n",
       "2326532  0.020942  \n",
       "2328532  0.006838  \n",
       "2330532 -0.056027  \n",
       "\n",
       "[1202 rows x 12 columns]"
      ]
     },
     "execution_count": 7,
     "metadata": {},
     "output_type": "execute_result"
    },
    {
     "data": {
      "text/html": [
       "<div>\n",
       "<style scoped>\n",
       "    .dataframe tbody tr th:only-of-type {\n",
       "        vertical-align: middle;\n",
       "    }\n",
       "\n",
       "    .dataframe tbody tr th {\n",
       "        vertical-align: top;\n",
       "    }\n",
       "\n",
       "    .dataframe thead th {\n",
       "        text-align: right;\n",
       "    }\n",
       "</style>\n",
       "<table border=\"1\" class=\"dataframe\">\n",
       "  <thead>\n",
       "    <tr style=\"text-align: right;\">\n",
       "      <th></th>\n",
       "      <th>RowId</th>\n",
       "      <th>Date</th>\n",
       "      <th>SecuritiesCode</th>\n",
       "      <th>Open</th>\n",
       "      <th>High</th>\n",
       "      <th>Low</th>\n",
       "      <th>Close</th>\n",
       "      <th>Volume</th>\n",
       "      <th>AdjustmentFactor</th>\n",
       "      <th>ExpectedDividend</th>\n",
       "      <th>SupervisionFlag</th>\n",
       "      <th>Target</th>\n",
       "    </tr>\n",
       "  </thead>\n",
       "  <tbody>\n",
       "    <tr>\n",
       "      <th>1</th>\n",
       "      <td>20170104_1332</td>\n",
       "      <td>2017-01-04</td>\n",
       "      <td>1332</td>\n",
       "      <td>568.0</td>\n",
       "      <td>576.0</td>\n",
       "      <td>563.0</td>\n",
       "      <td>571.0</td>\n",
       "      <td>2798500</td>\n",
       "      <td>1.0</td>\n",
       "      <td>NaN</td>\n",
       "      <td>False</td>\n",
       "      <td>0.012324</td>\n",
       "    </tr>\n",
       "    <tr>\n",
       "      <th>1866</th>\n",
       "      <td>20170105_1332</td>\n",
       "      <td>2017-01-05</td>\n",
       "      <td>1332</td>\n",
       "      <td>572.0</td>\n",
       "      <td>573.0</td>\n",
       "      <td>565.0</td>\n",
       "      <td>568.0</td>\n",
       "      <td>2162900</td>\n",
       "      <td>1.0</td>\n",
       "      <td>NaN</td>\n",
       "      <td>False</td>\n",
       "      <td>-0.022609</td>\n",
       "    </tr>\n",
       "    <tr>\n",
       "      <th>3731</th>\n",
       "      <td>20170106_1332</td>\n",
       "      <td>2017-01-06</td>\n",
       "      <td>1332</td>\n",
       "      <td>567.0</td>\n",
       "      <td>576.0</td>\n",
       "      <td>563.0</td>\n",
       "      <td>575.0</td>\n",
       "      <td>2125600</td>\n",
       "      <td>1.0</td>\n",
       "      <td>NaN</td>\n",
       "      <td>False</td>\n",
       "      <td>-0.016014</td>\n",
       "    </tr>\n",
       "    <tr>\n",
       "      <th>5596</th>\n",
       "      <td>20170110_1332</td>\n",
       "      <td>2017-01-10</td>\n",
       "      <td>1332</td>\n",
       "      <td>573.0</td>\n",
       "      <td>576.0</td>\n",
       "      <td>561.0</td>\n",
       "      <td>562.0</td>\n",
       "      <td>2744600</td>\n",
       "      <td>1.0</td>\n",
       "      <td>NaN</td>\n",
       "      <td>False</td>\n",
       "      <td>-0.016275</td>\n",
       "    </tr>\n",
       "    <tr>\n",
       "      <th>7461</th>\n",
       "      <td>20170111_1332</td>\n",
       "      <td>2017-01-11</td>\n",
       "      <td>1332</td>\n",
       "      <td>559.0</td>\n",
       "      <td>562.0</td>\n",
       "      <td>551.0</td>\n",
       "      <td>553.0</td>\n",
       "      <td>2231800</td>\n",
       "      <td>1.0</td>\n",
       "      <td>NaN</td>\n",
       "      <td>False</td>\n",
       "      <td>0.016544</td>\n",
       "    </tr>\n",
       "    <tr>\n",
       "      <th>...</th>\n",
       "      <td>...</td>\n",
       "      <td>...</td>\n",
       "      <td>...</td>\n",
       "      <td>...</td>\n",
       "      <td>...</td>\n",
       "      <td>...</td>\n",
       "      <td>...</td>\n",
       "      <td>...</td>\n",
       "      <td>...</td>\n",
       "      <td>...</td>\n",
       "      <td>...</td>\n",
       "      <td>...</td>\n",
       "    </tr>\n",
       "    <tr>\n",
       "      <th>2322532</th>\n",
       "      <td>20211129_1332</td>\n",
       "      <td>2021-11-29</td>\n",
       "      <td>1332</td>\n",
       "      <td>579.0</td>\n",
       "      <td>579.0</td>\n",
       "      <td>567.0</td>\n",
       "      <td>567.0</td>\n",
       "      <td>1607200</td>\n",
       "      <td>1.0</td>\n",
       "      <td>NaN</td>\n",
       "      <td>False</td>\n",
       "      <td>0.001745</td>\n",
       "    </tr>\n",
       "    <tr>\n",
       "      <th>2324532</th>\n",
       "      <td>20211130_1332</td>\n",
       "      <td>2021-11-30</td>\n",
       "      <td>1332</td>\n",
       "      <td>580.0</td>\n",
       "      <td>590.0</td>\n",
       "      <td>573.0</td>\n",
       "      <td>573.0</td>\n",
       "      <td>2732300</td>\n",
       "      <td>1.0</td>\n",
       "      <td>NaN</td>\n",
       "      <td>False</td>\n",
       "      <td>-0.001742</td>\n",
       "    </tr>\n",
       "    <tr>\n",
       "      <th>2326532</th>\n",
       "      <td>20211201_1332</td>\n",
       "      <td>2021-12-01</td>\n",
       "      <td>1332</td>\n",
       "      <td>568.0</td>\n",
       "      <td>578.0</td>\n",
       "      <td>568.0</td>\n",
       "      <td>574.0</td>\n",
       "      <td>1661300</td>\n",
       "      <td>1.0</td>\n",
       "      <td>NaN</td>\n",
       "      <td>False</td>\n",
       "      <td>0.020942</td>\n",
       "    </tr>\n",
       "    <tr>\n",
       "      <th>2328532</th>\n",
       "      <td>20211202_1332</td>\n",
       "      <td>2021-12-02</td>\n",
       "      <td>1332</td>\n",
       "      <td>566.0</td>\n",
       "      <td>577.0</td>\n",
       "      <td>565.0</td>\n",
       "      <td>573.0</td>\n",
       "      <td>1525800</td>\n",
       "      <td>1.0</td>\n",
       "      <td>NaN</td>\n",
       "      <td>False</td>\n",
       "      <td>0.006838</td>\n",
       "    </tr>\n",
       "    <tr>\n",
       "      <th>2330532</th>\n",
       "      <td>20211203_1332</td>\n",
       "      <td>2021-12-03</td>\n",
       "      <td>1332</td>\n",
       "      <td>579.0</td>\n",
       "      <td>585.0</td>\n",
       "      <td>570.0</td>\n",
       "      <td>585.0</td>\n",
       "      <td>1195500</td>\n",
       "      <td>1.0</td>\n",
       "      <td>NaN</td>\n",
       "      <td>False</td>\n",
       "      <td>-0.056027</td>\n",
       "    </tr>\n",
       "  </tbody>\n",
       "</table>\n",
       "<p>1202 rows × 12 columns</p>\n",
       "</div>"
      ],
      "text/plain": [
       "                 RowId        Date  SecuritiesCode   Open   High    Low  \\\n",
       "1        20170104_1332  2017-01-04            1332  568.0  576.0  563.0   \n",
       "1866     20170105_1332  2017-01-05            1332  572.0  573.0  565.0   \n",
       "3731     20170106_1332  2017-01-06            1332  567.0  576.0  563.0   \n",
       "5596     20170110_1332  2017-01-10            1332  573.0  576.0  561.0   \n",
       "7461     20170111_1332  2017-01-11            1332  559.0  562.0  551.0   \n",
       "...                ...         ...             ...    ...    ...    ...   \n",
       "2322532  20211129_1332  2021-11-29            1332  579.0  579.0  567.0   \n",
       "2324532  20211130_1332  2021-11-30            1332  580.0  590.0  573.0   \n",
       "2326532  20211201_1332  2021-12-01            1332  568.0  578.0  568.0   \n",
       "2328532  20211202_1332  2021-12-02            1332  566.0  577.0  565.0   \n",
       "2330532  20211203_1332  2021-12-03            1332  579.0  585.0  570.0   \n",
       "\n",
       "         Close   Volume  AdjustmentFactor  ExpectedDividend  SupervisionFlag  \\\n",
       "1        571.0  2798500               1.0               NaN            False   \n",
       "1866     568.0  2162900               1.0               NaN            False   \n",
       "3731     575.0  2125600               1.0               NaN            False   \n",
       "5596     562.0  2744600               1.0               NaN            False   \n",
       "7461     553.0  2231800               1.0               NaN            False   \n",
       "...        ...      ...               ...               ...              ...   \n",
       "2322532  567.0  1607200               1.0               NaN            False   \n",
       "2324532  573.0  2732300               1.0               NaN            False   \n",
       "2326532  574.0  1661300               1.0               NaN            False   \n",
       "2328532  573.0  1525800               1.0               NaN            False   \n",
       "2330532  585.0  1195500               1.0               NaN            False   \n",
       "\n",
       "           Target  \n",
       "1        0.012324  \n",
       "1866    -0.022609  \n",
       "3731    -0.016014  \n",
       "5596    -0.016275  \n",
       "7461     0.016544  \n",
       "...           ...  \n",
       "2322532  0.001745  \n",
       "2324532 -0.001742  \n",
       "2326532  0.020942  \n",
       "2328532  0.006838  \n",
       "2330532 -0.056027  \n",
       "\n",
       "[1202 rows x 12 columns]"
      ]
     },
     "execution_count": 7,
     "metadata": {},
     "output_type": "execute_result"
    }
   ],
   "source": [
    "df[df.SecuritiesCode==1332]"
   ]
  },
  {
   "cell_type": "code",
   "execution_count": 8,
   "metadata": {},
   "outputs": [
    {
     "data": {
      "text/plain": [
       "0.01232394366197183"
      ]
     },
     "execution_count": 8,
     "metadata": {},
     "output_type": "execute_result"
    },
    {
     "data": {
      "text/plain": [
       "0.01232394366197183"
      ]
     },
     "execution_count": 8,
     "metadata": {},
     "output_type": "execute_result"
    }
   ],
   "source": [
    "(575.0- 568.0)/568.0"
   ]
  },
  {
   "cell_type": "markdown",
   "metadata": {},
   "source": [
    "sklearn.preprocessing.MinMaxScaler.fit_transform(df[[column]]) to return the Pandas DataFrame df from the first step with the specified column min-max scaled."
   ]
  },
  {
   "cell_type": "code",
   "execution_count": 9,
   "metadata": {},
   "outputs": [],
   "source": [
    "min_max_scaler = MinMaxScaler(feature_range=(0,1))\n",
    "df[[\"Target\", \"Close\"]] = min_max_scaler.fit_transform(df[[\"Target\", \"Close\"]])"
   ]
  },
  {
   "cell_type": "code",
   "execution_count": 10,
   "metadata": {},
   "outputs": [
    {
     "name": "stderr",
     "output_type": "stream",
     "text": [
      "<ipython-input-10-22840941fca5>:1: FutureWarning: Indexing with multiple keys (implicitly converted to a tuple of keys) will be deprecated, use a list instead.\n",
      "  temp = df.groupby(\"SecuritiesCode\")[\"Target\", \"Close\"].agg(list)\n",
      "<ipython-input-10-22840941fca5>:1: FutureWarning: Indexing with multiple keys (implicitly converted to a tuple of keys) will be deprecated, use a list instead.\n",
      "  temp = df.groupby(\"SecuritiesCode\")[\"Target\", \"Close\"].agg(list)\n"
     ]
    }
   ],
   "source": [
    "temp = df.groupby(\"SecuritiesCode\")[\"Target\", \"Close\"].agg(list)"
   ]
  },
  {
   "cell_type": "code",
   "execution_count": 11,
   "metadata": {},
   "outputs": [
    {
     "data": {
      "text/html": [
       "<div>\n",
       "<style scoped>\n",
       "    .dataframe tbody tr th:only-of-type {\n",
       "        vertical-align: middle;\n",
       "    }\n",
       "\n",
       "    .dataframe tbody tr th {\n",
       "        vertical-align: top;\n",
       "    }\n",
       "\n",
       "    .dataframe thead th {\n",
       "        text-align: right;\n",
       "    }\n",
       "</style>\n",
       "<table border=\"1\" class=\"dataframe\">\n",
       "  <thead>\n",
       "    <tr style=\"text-align: right;\">\n",
       "      <th></th>\n",
       "      <th>Target</th>\n",
       "      <th>Close</th>\n",
       "    </tr>\n",
       "    <tr>\n",
       "      <th>SecuritiesCode</th>\n",
       "      <th></th>\n",
       "      <th></th>\n",
       "    </tr>\n",
       "  </thead>\n",
       "  <tbody>\n",
       "    <tr>\n",
       "      <th>1301</th>\n",
       "      <td>[0.34113872791527505, 0.3424279969221406, 0.34...</td>\n",
       "      <td>[0.02490505404615834, 0.024868536371603855, 0....</td>\n",
       "    </tr>\n",
       "    <tr>\n",
       "      <th>1332</th>\n",
       "      <td>[0.34796624129861925, 0.32739407564988965, 0.3...</td>\n",
       "      <td>[0.005085086181711948, 0.0050576979257960855, ...</td>\n",
       "    </tr>\n",
       "    <tr>\n",
       "      <th>1333</th>\n",
       "      <td>[0.344332611819195, 0.3344052394617789, 0.3316...</td>\n",
       "      <td>[0.02917762196903301, 0.029542798714577854, 0....</td>\n",
       "    </tr>\n",
       "    <tr>\n",
       "      <th>1375</th>\n",
       "      <td>[0.34099737566011507, 0.3308933933933934, 0.34...</td>\n",
       "      <td>[0.01895267309377739, 0.01848707274320771, 0.0...</td>\n",
       "    </tr>\n",
       "    <tr>\n",
       "      <th>1376</th>\n",
       "      <td>[0.3472179565036493, 0.34373831277106537, 0.34...</td>\n",
       "      <td>[0.014022787028921997, 0.013913234005258544, 0...</td>\n",
       "    </tr>\n",
       "    <tr>\n",
       "      <th>...</th>\n",
       "      <td>...</td>\n",
       "      <td>...</td>\n",
       "    </tr>\n",
       "    <tr>\n",
       "      <th>9990</th>\n",
       "      <td>[0.3276836966768633, 0.3297675834964035, 0.333...</td>\n",
       "      <td>[0.0110374671340929, 0.011430032135553606, 0.0...</td>\n",
       "    </tr>\n",
       "    <tr>\n",
       "      <th>9991</th>\n",
       "      <td>[0.3407085529178553, 0.3506369307864325, 0.343...</td>\n",
       "      <td>[0.010179301782062517, 0.010161042944785275, 0...</td>\n",
       "    </tr>\n",
       "    <tr>\n",
       "      <th>9993</th>\n",
       "      <td>[0.3495668027393752, 0.3558999633783285, 0.330...</td>\n",
       "      <td>[0.0160586473853345, 0.016259494595384165, 0.0...</td>\n",
       "    </tr>\n",
       "    <tr>\n",
       "      <th>9994</th>\n",
       "      <td>[0.3400419886038002, 0.3357036557099144, 0.340...</td>\n",
       "      <td>[0.0158851884312007, 0.016003870873502773, 0.0...</td>\n",
       "    </tr>\n",
       "    <tr>\n",
       "      <th>9997</th>\n",
       "      <td>[0.3451143601856936, 0.3377931589996983, 0.337...</td>\n",
       "      <td>[0.006974875839906514, 0.007193981887233421, 0...</td>\n",
       "    </tr>\n",
       "  </tbody>\n",
       "</table>\n",
       "<p>2000 rows × 2 columns</p>\n",
       "</div>"
      ],
      "text/plain": [
       "                                                           Target  \\\n",
       "SecuritiesCode                                                      \n",
       "1301            [0.34113872791527505, 0.3424279969221406, 0.34...   \n",
       "1332            [0.34796624129861925, 0.32739407564988965, 0.3...   \n",
       "1333            [0.344332611819195, 0.3344052394617789, 0.3316...   \n",
       "1375            [0.34099737566011507, 0.3308933933933934, 0.34...   \n",
       "1376            [0.3472179565036493, 0.34373831277106537, 0.34...   \n",
       "...                                                           ...   \n",
       "9990            [0.3276836966768633, 0.3297675834964035, 0.333...   \n",
       "9991            [0.3407085529178553, 0.3506369307864325, 0.343...   \n",
       "9993            [0.3495668027393752, 0.3558999633783285, 0.330...   \n",
       "9994            [0.3400419886038002, 0.3357036557099144, 0.340...   \n",
       "9997            [0.3451143601856936, 0.3377931589996983, 0.337...   \n",
       "\n",
       "                                                            Close  \n",
       "SecuritiesCode                                                     \n",
       "1301            [0.02490505404615834, 0.024868536371603855, 0....  \n",
       "1332            [0.005085086181711948, 0.0050576979257960855, ...  \n",
       "1333            [0.02917762196903301, 0.029542798714577854, 0....  \n",
       "1375            [0.01895267309377739, 0.01848707274320771, 0.0...  \n",
       "1376            [0.014022787028921997, 0.013913234005258544, 0...  \n",
       "...                                                           ...  \n",
       "9990            [0.0110374671340929, 0.011430032135553606, 0.0...  \n",
       "9991            [0.010179301782062517, 0.010161042944785275, 0...  \n",
       "9993            [0.0160586473853345, 0.016259494595384165, 0.0...  \n",
       "9994            [0.0158851884312007, 0.016003870873502773, 0.0...  \n",
       "9997            [0.006974875839906514, 0.007193981887233421, 0...  \n",
       "\n",
       "[2000 rows x 2 columns]"
      ]
     },
     "execution_count": 11,
     "metadata": {},
     "output_type": "execute_result"
    },
    {
     "data": {
      "text/html": [
       "<div>\n",
       "<style scoped>\n",
       "    .dataframe tbody tr th:only-of-type {\n",
       "        vertical-align: middle;\n",
       "    }\n",
       "\n",
       "    .dataframe tbody tr th {\n",
       "        vertical-align: top;\n",
       "    }\n",
       "\n",
       "    .dataframe thead th {\n",
       "        text-align: right;\n",
       "    }\n",
       "</style>\n",
       "<table border=\"1\" class=\"dataframe\">\n",
       "  <thead>\n",
       "    <tr style=\"text-align: right;\">\n",
       "      <th></th>\n",
       "      <th>Target</th>\n",
       "      <th>Close</th>\n",
       "    </tr>\n",
       "    <tr>\n",
       "      <th>SecuritiesCode</th>\n",
       "      <th></th>\n",
       "      <th></th>\n",
       "    </tr>\n",
       "  </thead>\n",
       "  <tbody>\n",
       "    <tr>\n",
       "      <th>1301</th>\n",
       "      <td>[0.34113872791527505, 0.3424279969221406, 0.34...</td>\n",
       "      <td>[0.02490505404615834, 0.024868536371603855, 0....</td>\n",
       "    </tr>\n",
       "    <tr>\n",
       "      <th>1332</th>\n",
       "      <td>[0.34796624129861925, 0.32739407564988965, 0.3...</td>\n",
       "      <td>[0.005085086181711948, 0.0050576979257960855, ...</td>\n",
       "    </tr>\n",
       "    <tr>\n",
       "      <th>1333</th>\n",
       "      <td>[0.344332611819195, 0.3344052394617789, 0.3316...</td>\n",
       "      <td>[0.02917762196903301, 0.029542798714577854, 0....</td>\n",
       "    </tr>\n",
       "    <tr>\n",
       "      <th>1375</th>\n",
       "      <td>[0.34099737566011507, 0.3308933933933934, 0.34...</td>\n",
       "      <td>[0.01895267309377739, 0.01848707274320771, 0.0...</td>\n",
       "    </tr>\n",
       "    <tr>\n",
       "      <th>1376</th>\n",
       "      <td>[0.3472179565036493, 0.34373831277106537, 0.34...</td>\n",
       "      <td>[0.014022787028921997, 0.013913234005258544, 0...</td>\n",
       "    </tr>\n",
       "    <tr>\n",
       "      <th>...</th>\n",
       "      <td>...</td>\n",
       "      <td>...</td>\n",
       "    </tr>\n",
       "    <tr>\n",
       "      <th>9990</th>\n",
       "      <td>[0.3276836966768633, 0.3297675834964035, 0.333...</td>\n",
       "      <td>[0.0110374671340929, 0.011430032135553606, 0.0...</td>\n",
       "    </tr>\n",
       "    <tr>\n",
       "      <th>9991</th>\n",
       "      <td>[0.3407085529178553, 0.3506369307864325, 0.343...</td>\n",
       "      <td>[0.010179301782062517, 0.010161042944785275, 0...</td>\n",
       "    </tr>\n",
       "    <tr>\n",
       "      <th>9993</th>\n",
       "      <td>[0.3495668027393752, 0.3558999633783285, 0.330...</td>\n",
       "      <td>[0.0160586473853345, 0.016259494595384165, 0.0...</td>\n",
       "    </tr>\n",
       "    <tr>\n",
       "      <th>9994</th>\n",
       "      <td>[0.3400419886038002, 0.3357036557099144, 0.340...</td>\n",
       "      <td>[0.0158851884312007, 0.016003870873502773, 0.0...</td>\n",
       "    </tr>\n",
       "    <tr>\n",
       "      <th>9997</th>\n",
       "      <td>[0.3451143601856936, 0.3377931589996983, 0.337...</td>\n",
       "      <td>[0.006974875839906514, 0.007193981887233421, 0...</td>\n",
       "    </tr>\n",
       "  </tbody>\n",
       "</table>\n",
       "<p>2000 rows × 2 columns</p>\n",
       "</div>"
      ],
      "text/plain": [
       "                                                           Target  \\\n",
       "SecuritiesCode                                                      \n",
       "1301            [0.34113872791527505, 0.3424279969221406, 0.34...   \n",
       "1332            [0.34796624129861925, 0.32739407564988965, 0.3...   \n",
       "1333            [0.344332611819195, 0.3344052394617789, 0.3316...   \n",
       "1375            [0.34099737566011507, 0.3308933933933934, 0.34...   \n",
       "1376            [0.3472179565036493, 0.34373831277106537, 0.34...   \n",
       "...                                                           ...   \n",
       "9990            [0.3276836966768633, 0.3297675834964035, 0.333...   \n",
       "9991            [0.3407085529178553, 0.3506369307864325, 0.343...   \n",
       "9993            [0.3495668027393752, 0.3558999633783285, 0.330...   \n",
       "9994            [0.3400419886038002, 0.3357036557099144, 0.340...   \n",
       "9997            [0.3451143601856936, 0.3377931589996983, 0.337...   \n",
       "\n",
       "                                                            Close  \n",
       "SecuritiesCode                                                     \n",
       "1301            [0.02490505404615834, 0.024868536371603855, 0....  \n",
       "1332            [0.005085086181711948, 0.0050576979257960855, ...  \n",
       "1333            [0.02917762196903301, 0.029542798714577854, 0....  \n",
       "1375            [0.01895267309377739, 0.01848707274320771, 0.0...  \n",
       "1376            [0.014022787028921997, 0.013913234005258544, 0...  \n",
       "...                                                           ...  \n",
       "9990            [0.0110374671340929, 0.011430032135553606, 0.0...  \n",
       "9991            [0.010179301782062517, 0.010161042944785275, 0...  \n",
       "9993            [0.0160586473853345, 0.016259494595384165, 0.0...  \n",
       "9994            [0.0158851884312007, 0.016003870873502773, 0.0...  \n",
       "9997            [0.006974875839906514, 0.007193981887233421, 0...  \n",
       "\n",
       "[2000 rows x 2 columns]"
      ]
     },
     "execution_count": 11,
     "metadata": {},
     "output_type": "execute_result"
    }
   ],
   "source": [
    "temp"
   ]
  },
  {
   "cell_type": "code",
   "execution_count": 12,
   "metadata": {},
   "outputs": [
    {
     "name": "stdout",
     "output_type": "stream",
     "text": [
      "1202 232\n",
      "1202 232\n"
     ]
    }
   ],
   "source": [
    "length_result=[]\n",
    "for i in temp.Target:\n",
    "    #print(len(i))\n",
    "    length_result.append(len(i))\n",
    "print(max(length_result), min(length_result))\n"
   ]
  },
  {
   "cell_type": "code",
   "execution_count": 13,
   "metadata": {},
   "outputs": [],
   "source": [
    "def split_sequence(sequence, seq_length):\n",
    "    X, y = list(), list()\n",
    "    for i in range(len(sequence)):\n",
    "        # find the end of this pattern\n",
    "        end_ix = i + seq_length\n",
    "        # check if we are beyond the sequence\n",
    "        if end_ix > len(sequence) - 1:\n",
    "        # end in last Target\n",
    "            break\n",
    "        # gather input and output parts of the pattern\n",
    "        seq_x, seq_y = sequence[i:end_ix], sequence[end_ix:(end_ix+2)]\n",
    "        X.append(seq_x)\n",
    "        y.append(seq_y)\n",
    "    #X = pad_sequences(X, maxlen=seq_length)\n",
    "    return np.array(X), np.array(y)"
   ]
  },
  {
   "cell_type": "code",
   "execution_count": 45,
   "metadata": {},
   "outputs": [
    {
     "name": "stderr",
     "output_type": "stream",
     "text": [
      "<ipython-input-13-f864dc4da495>:15: VisibleDeprecationWarning: Creating an ndarray from ragged nested sequences (which is a list-or-tuple of lists-or-tuples-or ndarrays with different lengths or shapes) is deprecated. If you meant to do this, you must specify 'dtype=object' when creating the ndarray.\n",
      "  return np.array(X), np.array(y)\n",
      "<ipython-input-13-f864dc4da495>:15: VisibleDeprecationWarning: Creating an ndarray from ragged nested sequences (which is a list-or-tuple of lists-or-tuples-or ndarrays with different lengths or shapes) is deprecated. If you meant to do this, you must specify 'dtype=object' when creating the ndarray.\n",
      "  return np.array(X), np.array(y)\n"
     ]
    },
    {
     "data": {
      "text/plain": [
       "((2132531, 100), (2000,))"
      ]
     },
     "execution_count": 45,
     "metadata": {},
     "output_type": "execute_result"
    },
    {
     "data": {
      "text/plain": [
       "((2132531, 100), (2000,))"
      ]
     },
     "execution_count": 45,
     "metadata": {},
     "output_type": "execute_result"
    }
   ],
   "source": [
    "temp1 = temp.Close.apply(split_sequence, seq_length=100)\n",
    "x_raw = temp1.apply(lambda x: x[0]).to_numpy()\n",
    "y_raw = temp1.apply(lambda x: x[1]).to_numpy()\n",
    "non_empty_idx = [len(i) > 0 for i in x_raw]\n",
    "\n",
    "X = np.concatenate(x_raw[non_empty_idx])\n",
    "y = y_raw[non_empty_idx]\n",
    "X.shape, y.shape"
   ]
  },
  {
   "cell_type": "code",
   "execution_count": 43,
   "metadata": {},
   "outputs": [
    {
     "data": {
      "text/plain": [
       "array([[0.02490505, 0.02486854, 0.0248868 , ..., 0.0279908 , 0.02785386,\n",
       "        0.02748868],\n",
       "       [0.02486854, 0.0248868 , 0.02495983, ..., 0.02785386, 0.02748868,\n",
       "        0.02776256],\n",
       "       [0.0248868 , 0.02495983, 0.02493244, ..., 0.02748868, 0.02776256,\n",
       "        0.02776256],\n",
       "       ...,\n",
       "       [0.02639315, 0.02638402, 0.02620143, ..., 0.0272148 , 0.0268131 ,\n",
       "        0.0263475 ],\n",
       "       [0.02638402, 0.02620143, 0.02614665, ..., 0.0268131 , 0.0263475 ,\n",
       "        0.02644793],\n",
       "       [0.02620143, 0.02614665, 0.02609188, ..., 0.0263475 , 0.02644793,\n",
       "        0.02664877]])"
      ]
     },
     "execution_count": 43,
     "metadata": {},
     "output_type": "execute_result"
    },
    {
     "data": {
      "text/plain": [
       "array([[0.02490505, 0.02486854, 0.0248868 , ..., 0.0279908 , 0.02785386,\n",
       "        0.02748868],\n",
       "       [0.02486854, 0.0248868 , 0.02495983, ..., 0.02785386, 0.02748868,\n",
       "        0.02776256],\n",
       "       [0.0248868 , 0.02495983, 0.02493244, ..., 0.02748868, 0.02776256,\n",
       "        0.02776256],\n",
       "       ...,\n",
       "       [0.02639315, 0.02638402, 0.02620143, ..., 0.0272148 , 0.0268131 ,\n",
       "        0.0263475 ],\n",
       "       [0.02638402, 0.02620143, 0.02614665, ..., 0.0268131 , 0.0263475 ,\n",
       "        0.02644793],\n",
       "       [0.02620143, 0.02614665, 0.02609188, ..., 0.0263475 , 0.02644793,\n",
       "        0.02664877]])"
      ]
     },
     "execution_count": 43,
     "metadata": {},
     "output_type": "execute_result"
    }
   ],
   "source": [
    "temp1[1301][0]"
   ]
  },
  {
   "cell_type": "code",
   "execution_count": 44,
   "metadata": {},
   "outputs": [
    {
     "data": {
      "text/plain": [
       "array([list([0.02776256208004674, 0.02776256208004674]),\n",
       "       list([0.02776256208004674, 0.027808209173239846]),\n",
       "       list([0.027808209173239846, 0.027853856266432952]), ...,\n",
       "       list([0.026447925796085302, 0.026648773006134968]),\n",
       "       list([0.026648773006134968, 0.0270961145194274]),\n",
       "       list([0.0270961145194274])], dtype=object)"
      ]
     },
     "execution_count": 44,
     "metadata": {},
     "output_type": "execute_result"
    },
    {
     "data": {
      "text/plain": [
       "array([list([0.02776256208004674, 0.02776256208004674]),\n",
       "       list([0.02776256208004674, 0.027808209173239846]),\n",
       "       list([0.027808209173239846, 0.027853856266432952]), ...,\n",
       "       list([0.026447925796085302, 0.026648773006134968]),\n",
       "       list([0.026648773006134968, 0.0270961145194274]),\n",
       "       list([0.0270961145194274])], dtype=object)"
      ]
     },
     "execution_count": 44,
     "metadata": {},
     "output_type": "execute_result"
    }
   ],
   "source": [
    "temp1[1301][1]"
   ]
  },
  {
   "cell_type": "code",
   "execution_count": 46,
   "metadata": {},
   "outputs": [
    {
     "data": {
      "text/plain": [
       "(1102,)"
      ]
     },
     "execution_count": 46,
     "metadata": {},
     "output_type": "execute_result"
    },
    {
     "data": {
      "text/plain": [
       "(1102,)"
      ]
     },
     "execution_count": 46,
     "metadata": {},
     "output_type": "execute_result"
    }
   ],
   "source": [
    "temp1[1301][1].shape"
   ]
  },
  {
   "cell_type": "code",
   "execution_count": 27,
   "metadata": {},
   "outputs": [
    {
     "data": {
      "text/plain": [
       "pandas.core.series.Series"
      ]
     },
     "execution_count": 27,
     "metadata": {},
     "output_type": "execute_result"
    },
    {
     "data": {
      "text/plain": [
       "pandas.core.series.Series"
      ]
     },
     "execution_count": 27,
     "metadata": {},
     "output_type": "execute_result"
    }
   ],
   "source": [
    "type(temp1)"
   ]
  },
  {
   "cell_type": "code",
   "execution_count": 39,
   "metadata": {},
   "outputs": [
    {
     "data": {
      "text/plain": [
       "SecuritiesCode\n",
       "1301    ([[0.02490505404615834, 0.024868536371603855, ...\n",
       "Name: Close, dtype: object"
      ]
     },
     "execution_count": 39,
     "metadata": {},
     "output_type": "execute_result"
    },
    {
     "data": {
      "text/plain": [
       "SecuritiesCode\n",
       "1301    ([[0.02490505404615834, 0.024868536371603855, ...\n",
       "Name: Close, dtype: object"
      ]
     },
     "execution_count": 39,
     "metadata": {},
     "output_type": "execute_result"
    }
   ],
   "source": [
    "temp1.iloc[0:1]"
   ]
  },
  {
   "cell_type": "code",
   "execution_count": 15,
   "metadata": {},
   "outputs": [
    {
     "data": {
      "text/plain": [
       "array([[0.02490505, 0.02486854, 0.0248868 , ..., 0.0279908 , 0.02785386,\n",
       "        0.02748868],\n",
       "       [0.02486854, 0.0248868 , 0.02495983, ..., 0.02785386, 0.02748868,\n",
       "        0.02776256],\n",
       "       [0.0248868 , 0.02495983, 0.02493244, ..., 0.02748868, 0.02776256,\n",
       "        0.02776256],\n",
       "       ...,\n",
       "       [0.00880989, 0.0087825 , 0.00851775, ..., 0.00615323, 0.00597064,\n",
       "        0.00596151],\n",
       "       [0.0087825 , 0.00851775, 0.00838081, ..., 0.00597064, 0.00596151,\n",
       "        0.00612584],\n",
       "       [0.00851775, 0.00838081, 0.00828038, ..., 0.00596151, 0.00612584,\n",
       "        0.00611671]])"
      ]
     },
     "execution_count": 15,
     "metadata": {},
     "output_type": "execute_result"
    },
    {
     "data": {
      "text/plain": [
       "array([[0.02490505, 0.02486854, 0.0248868 , ..., 0.0279908 , 0.02785386,\n",
       "        0.02748868],\n",
       "       [0.02486854, 0.0248868 , 0.02495983, ..., 0.02785386, 0.02748868,\n",
       "        0.02776256],\n",
       "       [0.0248868 , 0.02495983, 0.02493244, ..., 0.02748868, 0.02776256,\n",
       "        0.02776256],\n",
       "       ...,\n",
       "       [0.00880989, 0.0087825 , 0.00851775, ..., 0.00615323, 0.00597064,\n",
       "        0.00596151],\n",
       "       [0.0087825 , 0.00851775, 0.00838081, ..., 0.00597064, 0.00596151,\n",
       "        0.00612584],\n",
       "       [0.00851775, 0.00838081, 0.00828038, ..., 0.00596151, 0.00612584,\n",
       "        0.00611671]])"
      ]
     },
     "execution_count": 15,
     "metadata": {},
     "output_type": "execute_result"
    }
   ],
   "source": [
    "X"
   ]
  },
  {
   "cell_type": "code",
   "execution_count": 16,
   "metadata": {},
   "outputs": [
    {
     "data": {
      "text/plain": [
       "array([list([0.02776256208004674, 0.02776256208004674]),\n",
       "       list([0.02776256208004674, 0.027808209173239846]),\n",
       "       list([0.027808209173239846, 0.027853856266432952]), ...,\n",
       "       list([0.006125839906514753, 0.006116710487876131]),\n",
       "       list([0.006116710487876131, 0.006226263511539584]),\n",
       "       list([0.006226263511539584])], dtype=object)"
      ]
     },
     "execution_count": 16,
     "metadata": {},
     "output_type": "execute_result"
    },
    {
     "data": {
      "text/plain": [
       "array([list([0.02776256208004674, 0.02776256208004674]),\n",
       "       list([0.02776256208004674, 0.027808209173239846]),\n",
       "       list([0.027808209173239846, 0.027853856266432952]), ...,\n",
       "       list([0.006125839906514753, 0.006116710487876131]),\n",
       "       list([0.006116710487876131, 0.006226263511539584]),\n",
       "       list([0.006226263511539584])], dtype=object)"
      ]
     },
     "execution_count": 16,
     "metadata": {},
     "output_type": "execute_result"
    }
   ],
   "source": [
    "y"
   ]
  },
  {
   "cell_type": "code",
   "execution_count": 17,
   "metadata": {},
   "outputs": [
    {
     "data": {
      "text/plain": [
       "array([0.02490505, 0.02486854, 0.0248868 , 0.02495983, 0.02493244,\n",
       "       0.02480463, 0.02472247, 0.02455814, 0.02439381, 0.02446684,\n",
       "       0.02451249, 0.02485941, 0.02470421, 0.02476811, 0.02480463,\n",
       "       0.02482289, 0.02476811, 0.02483202, 0.02472247, 0.02484115,\n",
       "       0.02478637, 0.02470421, 0.02474985, 0.02480463, 0.02485941,\n",
       "       0.02485941, 0.02493244, 0.02527023, 0.02544369, 0.02565367,\n",
       "       0.0256628 , 0.02567193, 0.02590016, 0.02618317, 0.026594  ,\n",
       "       0.02660313, 0.02675833, 0.02676746, 0.02699569, 0.02739739,\n",
       "       0.02744303, 0.02762562, 0.02826468, 0.02831033, 0.02849292,\n",
       "       0.0286755 , 0.02849292, 0.0287668 , 0.02908633, 0.02853856,\n",
       "       0.02872115, 0.02904068, 0.02894939, 0.02862986, 0.02831033,\n",
       "       0.02840162, 0.02835597, 0.02831033, 0.02735174, 0.02673094,\n",
       "       0.02667616, 0.02735174, 0.02735174, 0.02730609, 0.02673094,\n",
       "       0.0267492 , 0.02658487, 0.02644793, 0.02630186, 0.0261923 ,\n",
       "       0.02598233, 0.02631098, 0.02616491, 0.02632011, 0.02608275,\n",
       "       0.02623795, 0.02652096, 0.02646618, 0.02666703, 0.0268131 ,\n",
       "       0.02666703, 0.02666703, 0.02675833, 0.0271235 , 0.02697743,\n",
       "       0.02716915, 0.02762562, 0.02735174, 0.02762562, 0.02780821,\n",
       "       0.02794515, 0.02803644, 0.02817339, 0.02858421, 0.02853856,\n",
       "       0.02885809, 0.02844727, 0.0279908 , 0.02785386, 0.02748868])"
      ]
     },
     "execution_count": 17,
     "metadata": {},
     "output_type": "execute_result"
    },
    {
     "data": {
      "text/plain": [
       "array([0.02490505, 0.02486854, 0.0248868 , 0.02495983, 0.02493244,\n",
       "       0.02480463, 0.02472247, 0.02455814, 0.02439381, 0.02446684,\n",
       "       0.02451249, 0.02485941, 0.02470421, 0.02476811, 0.02480463,\n",
       "       0.02482289, 0.02476811, 0.02483202, 0.02472247, 0.02484115,\n",
       "       0.02478637, 0.02470421, 0.02474985, 0.02480463, 0.02485941,\n",
       "       0.02485941, 0.02493244, 0.02527023, 0.02544369, 0.02565367,\n",
       "       0.0256628 , 0.02567193, 0.02590016, 0.02618317, 0.026594  ,\n",
       "       0.02660313, 0.02675833, 0.02676746, 0.02699569, 0.02739739,\n",
       "       0.02744303, 0.02762562, 0.02826468, 0.02831033, 0.02849292,\n",
       "       0.0286755 , 0.02849292, 0.0287668 , 0.02908633, 0.02853856,\n",
       "       0.02872115, 0.02904068, 0.02894939, 0.02862986, 0.02831033,\n",
       "       0.02840162, 0.02835597, 0.02831033, 0.02735174, 0.02673094,\n",
       "       0.02667616, 0.02735174, 0.02735174, 0.02730609, 0.02673094,\n",
       "       0.0267492 , 0.02658487, 0.02644793, 0.02630186, 0.0261923 ,\n",
       "       0.02598233, 0.02631098, 0.02616491, 0.02632011, 0.02608275,\n",
       "       0.02623795, 0.02652096, 0.02646618, 0.02666703, 0.0268131 ,\n",
       "       0.02666703, 0.02666703, 0.02675833, 0.0271235 , 0.02697743,\n",
       "       0.02716915, 0.02762562, 0.02735174, 0.02762562, 0.02780821,\n",
       "       0.02794515, 0.02803644, 0.02817339, 0.02858421, 0.02853856,\n",
       "       0.02885809, 0.02844727, 0.0279908 , 0.02785386, 0.02748868])"
      ]
     },
     "execution_count": 17,
     "metadata": {},
     "output_type": "execute_result"
    }
   ],
   "source": [
    "X[0]"
   ]
  },
  {
   "cell_type": "code",
   "execution_count": 18,
   "metadata": {},
   "outputs": [
    {
     "data": {
      "text/plain": [
       "(100,)"
      ]
     },
     "execution_count": 18,
     "metadata": {},
     "output_type": "execute_result"
    },
    {
     "data": {
      "text/plain": [
       "(100,)"
      ]
     },
     "execution_count": 18,
     "metadata": {},
     "output_type": "execute_result"
    }
   ],
   "source": [
    "X[0].shape"
   ]
  },
  {
   "cell_type": "code",
   "execution_count": 19,
   "metadata": {},
   "outputs": [
    {
     "data": {
      "text/plain": [
       "array([0.02486854, 0.0248868 , 0.02495983, 0.02493244, 0.02480463,\n",
       "       0.02472247, 0.02455814, 0.02439381, 0.02446684, 0.02451249,\n",
       "       0.02485941, 0.02470421, 0.02476811, 0.02480463, 0.02482289,\n",
       "       0.02476811, 0.02483202, 0.02472247, 0.02484115, 0.02478637,\n",
       "       0.02470421, 0.02474985, 0.02480463, 0.02485941, 0.02485941,\n",
       "       0.02493244, 0.02527023, 0.02544369, 0.02565367, 0.0256628 ,\n",
       "       0.02567193, 0.02590016, 0.02618317, 0.026594  , 0.02660313,\n",
       "       0.02675833, 0.02676746, 0.02699569, 0.02739739, 0.02744303,\n",
       "       0.02762562, 0.02826468, 0.02831033, 0.02849292, 0.0286755 ,\n",
       "       0.02849292, 0.0287668 , 0.02908633, 0.02853856, 0.02872115,\n",
       "       0.02904068, 0.02894939, 0.02862986, 0.02831033, 0.02840162,\n",
       "       0.02835597, 0.02831033, 0.02735174, 0.02673094, 0.02667616,\n",
       "       0.02735174, 0.02735174, 0.02730609, 0.02673094, 0.0267492 ,\n",
       "       0.02658487, 0.02644793, 0.02630186, 0.0261923 , 0.02598233,\n",
       "       0.02631098, 0.02616491, 0.02632011, 0.02608275, 0.02623795,\n",
       "       0.02652096, 0.02646618, 0.02666703, 0.0268131 , 0.02666703,\n",
       "       0.02666703, 0.02675833, 0.0271235 , 0.02697743, 0.02716915,\n",
       "       0.02762562, 0.02735174, 0.02762562, 0.02780821, 0.02794515,\n",
       "       0.02803644, 0.02817339, 0.02858421, 0.02853856, 0.02885809,\n",
       "       0.02844727, 0.0279908 , 0.02785386, 0.02748868, 0.02776256])"
      ]
     },
     "execution_count": 19,
     "metadata": {},
     "output_type": "execute_result"
    },
    {
     "data": {
      "text/plain": [
       "array([0.02486854, 0.0248868 , 0.02495983, 0.02493244, 0.02480463,\n",
       "       0.02472247, 0.02455814, 0.02439381, 0.02446684, 0.02451249,\n",
       "       0.02485941, 0.02470421, 0.02476811, 0.02480463, 0.02482289,\n",
       "       0.02476811, 0.02483202, 0.02472247, 0.02484115, 0.02478637,\n",
       "       0.02470421, 0.02474985, 0.02480463, 0.02485941, 0.02485941,\n",
       "       0.02493244, 0.02527023, 0.02544369, 0.02565367, 0.0256628 ,\n",
       "       0.02567193, 0.02590016, 0.02618317, 0.026594  , 0.02660313,\n",
       "       0.02675833, 0.02676746, 0.02699569, 0.02739739, 0.02744303,\n",
       "       0.02762562, 0.02826468, 0.02831033, 0.02849292, 0.0286755 ,\n",
       "       0.02849292, 0.0287668 , 0.02908633, 0.02853856, 0.02872115,\n",
       "       0.02904068, 0.02894939, 0.02862986, 0.02831033, 0.02840162,\n",
       "       0.02835597, 0.02831033, 0.02735174, 0.02673094, 0.02667616,\n",
       "       0.02735174, 0.02735174, 0.02730609, 0.02673094, 0.0267492 ,\n",
       "       0.02658487, 0.02644793, 0.02630186, 0.0261923 , 0.02598233,\n",
       "       0.02631098, 0.02616491, 0.02632011, 0.02608275, 0.02623795,\n",
       "       0.02652096, 0.02646618, 0.02666703, 0.0268131 , 0.02666703,\n",
       "       0.02666703, 0.02675833, 0.0271235 , 0.02697743, 0.02716915,\n",
       "       0.02762562, 0.02735174, 0.02762562, 0.02780821, 0.02794515,\n",
       "       0.02803644, 0.02817339, 0.02858421, 0.02853856, 0.02885809,\n",
       "       0.02844727, 0.0279908 , 0.02785386, 0.02748868, 0.02776256])"
      ]
     },
     "execution_count": 19,
     "metadata": {},
     "output_type": "execute_result"
    }
   ],
   "source": [
    "X[1]"
   ]
  },
  {
   "cell_type": "code",
   "execution_count": 20,
   "metadata": {
    "scrolled": true
   },
   "outputs": [
    {
     "data": {
      "text/plain": [
       "[0.02776256208004674, 0.02776256208004674]"
      ]
     },
     "execution_count": 20,
     "metadata": {},
     "output_type": "execute_result"
    },
    {
     "data": {
      "text/plain": [
       "[0.02776256208004674, 0.02776256208004674]"
      ]
     },
     "execution_count": 20,
     "metadata": {},
     "output_type": "execute_result"
    }
   ],
   "source": [
    "y[0]"
   ]
  },
  {
   "cell_type": "code",
   "execution_count": 21,
   "metadata": {},
   "outputs": [],
   "source": [
    "#from sklearn.preprocessing import MinMaxScaler\n",
    "#scaler=MinMaxScaler(feature_range=(0,1))\n",
    "#X=scaler.fit_transform(np.array(X).reshape(-1,1))\n",
    "#test_data=scaler.fit_transform(np.array(test_data).reshape(-1,1))"
   ]
  },
  {
   "cell_type": "code",
   "execution_count": 22,
   "metadata": {},
   "outputs": [
    {
     "ename": "ValueError",
     "evalue": "cannot reshape array of size 213253100 into shape (2132531,100,2)",
     "output_type": "error",
     "traceback": [
      "\u001b[0;31m---------------------------------------------------------------------------\u001b[0m",
      "\u001b[0;31mValueError\u001b[0m                                Traceback (most recent call last)",
      "\u001b[0;32m<ipython-input-22-125d7b1fb707>\u001b[0m in \u001b[0;36m<module>\u001b[0;34m\u001b[0m\n\u001b[0;32m----> 1\u001b[0;31m \u001b[0mX\u001b[0m \u001b[0;34m=\u001b[0m\u001b[0mX\u001b[0m\u001b[0;34m.\u001b[0m\u001b[0mreshape\u001b[0m\u001b[0;34m(\u001b[0m\u001b[0mX\u001b[0m\u001b[0;34m.\u001b[0m\u001b[0mshape\u001b[0m\u001b[0;34m[\u001b[0m\u001b[0;36m0\u001b[0m\u001b[0;34m]\u001b[0m\u001b[0;34m,\u001b[0m\u001b[0mX\u001b[0m\u001b[0;34m.\u001b[0m\u001b[0mshape\u001b[0m\u001b[0;34m[\u001b[0m\u001b[0;36m1\u001b[0m\u001b[0;34m]\u001b[0m \u001b[0;34m,\u001b[0m \u001b[0;36m2\u001b[0m\u001b[0;34m)\u001b[0m\u001b[0;34m\u001b[0m\u001b[0;34m\u001b[0m\u001b[0m\n\u001b[0m\u001b[1;32m      2\u001b[0m \u001b[0;31m#X_test = X_test.reshape(X_test.shape[0],X_test.shape[1] , 1)\u001b[0m\u001b[0;34m\u001b[0m\u001b[0;34m\u001b[0m\u001b[0;34m\u001b[0m\u001b[0m\n",
      "\u001b[0;31mValueError\u001b[0m: cannot reshape array of size 213253100 into shape (2132531,100,2)"
     ]
    },
    {
     "ename": "ValueError",
     "evalue": "cannot reshape array of size 213253100 into shape (2132531,100,2)",
     "output_type": "error",
     "traceback": [
      "\u001b[0;31m---------------------------------------------------------------------------\u001b[0m",
      "\u001b[0;31mValueError\u001b[0m                                Traceback (most recent call last)",
      "\u001b[0;32m<ipython-input-22-125d7b1fb707>\u001b[0m in \u001b[0;36m<module>\u001b[0;34m\u001b[0m\n\u001b[0;32m----> 1\u001b[0;31m \u001b[0mX\u001b[0m \u001b[0;34m=\u001b[0m\u001b[0mX\u001b[0m\u001b[0;34m.\u001b[0m\u001b[0mreshape\u001b[0m\u001b[0;34m(\u001b[0m\u001b[0mX\u001b[0m\u001b[0;34m.\u001b[0m\u001b[0mshape\u001b[0m\u001b[0;34m[\u001b[0m\u001b[0;36m0\u001b[0m\u001b[0;34m]\u001b[0m\u001b[0;34m,\u001b[0m\u001b[0mX\u001b[0m\u001b[0;34m.\u001b[0m\u001b[0mshape\u001b[0m\u001b[0;34m[\u001b[0m\u001b[0;36m1\u001b[0m\u001b[0;34m]\u001b[0m \u001b[0;34m,\u001b[0m \u001b[0;36m2\u001b[0m\u001b[0;34m)\u001b[0m\u001b[0;34m\u001b[0m\u001b[0;34m\u001b[0m\u001b[0m\n\u001b[0m\u001b[1;32m      2\u001b[0m \u001b[0;31m#X_test = X_test.reshape(X_test.shape[0],X_test.shape[1] , 1)\u001b[0m\u001b[0;34m\u001b[0m\u001b[0;34m\u001b[0m\u001b[0;34m\u001b[0m\u001b[0m\n",
      "\u001b[0;31mValueError\u001b[0m: cannot reshape array of size 213253100 into shape (2132531,100,2)"
     ]
    }
   ],
   "source": [
    "X =X.reshape(X.shape[0],X.shape[1] , 2)\n",
    "#X_test = X_test.reshape(X_test.shape[0],X_test.shape[1] , 1)"
   ]
  },
  {
   "cell_type": "code",
   "execution_count": null,
   "metadata": {},
   "outputs": [],
   "source": [
    "X.shape"
   ]
  },
  {
   "cell_type": "code",
   "execution_count": null,
   "metadata": {},
   "outputs": [],
   "source": [
    "from tensorflow.keras.models import Sequential\n",
    "from tensorflow.keras.layers import Dense\n",
    "from tensorflow.keras.layers import LSTM, GRU, Dropout"
   ]
  },
  {
   "cell_type": "markdown",
   "metadata": {},
   "source": [
    "We will be using a sequential model and adding the layers of the LSTM as said, in the above sentence. The first layer should be the time step in 1."
   ]
  },
  {
   "cell_type": "code",
   "execution_count": null,
   "metadata": {},
   "outputs": [],
   "source": [
    "model=Sequential()\n",
    "model.add(GRU(16, input_shape=(100,1))) #,return_sequences=True,\n",
    "#model.add(Activation('relu'))\n",
    "model.add(Dropout(0.5))\n",
    "#model.add(GRU(50,return_sequences=True))\n",
    "#model.add(GRU(50))\n",
    "model.add(Dense(1,  activation=\"relu\",))\n",
    "model.compile(loss='mean_squared_error',optimizer='adam')\n",
    "model.summary()"
   ]
  },
  {
   "cell_type": "code",
   "execution_count": null,
   "metadata": {},
   "outputs": [],
   "source": [
    "H=model.fit(X,y,validation_split=0.1, epochs=10, batch_size=128)\n",
    "#, callbacks=[EarlyStopping(monitor='val_loss', patience=4)])"
   ]
  },
  {
   "cell_type": "code",
   "execution_count": null,
   "metadata": {},
   "outputs": [],
   "source": [
    "y_hat=model.predict(X)\n",
    "#test_predict=model.predict(X_test)\n",
    "#train_predict=scaler.inverse_transform(train_predict)\n",
    "#test_predict=scaler.inverse_transform(test_predict)"
   ]
  },
  {
   "cell_type": "code",
   "execution_count": null,
   "metadata": {},
   "outputs": [],
   "source": [
    "import math\n",
    "from sklearn.metrics import mean_squared_error\n",
    "math.sqrt(mean_squared_error(y,y_hat))"
   ]
  },
  {
   "cell_type": "code",
   "execution_count": null,
   "metadata": {},
   "outputs": [],
   "source": [
    "def plot_loss(history):\n",
    "    plt.plot(history.history['loss'], label='loss')\n",
    "    plt.plot(history.history['val_loss'], label='val_loss')\n",
    "    plt.xlabel('Epoch')\n",
    "    plt.ylabel('Loss')\n",
    "    plt.legend()\n",
    "    plt.grid(True)"
   ]
  },
  {
   "cell_type": "code",
   "execution_count": null,
   "metadata": {},
   "outputs": [],
   "source": [
    "import matplotlib.pyplot as plt\n",
    "plot_loss(H)"
   ]
  },
  {
   "cell_type": "code",
   "execution_count": null,
   "metadata": {},
   "outputs": [],
   "source": []
  }
 ],
 "metadata": {
  "kernelspec": {
   "display_name": "Python 3",
   "language": "python",
   "name": "python3"
  },
  "language_info": {
   "codemirror_mode": {
    "name": "ipython",
    "version": 3
   },
   "file_extension": ".py",
   "mimetype": "text/x-python",
   "name": "python",
   "nbconvert_exporter": "python",
   "pygments_lexer": "ipython3",
   "version": "3.8.8"
  }
 },
 "nbformat": 4,
 "nbformat_minor": 4
}
