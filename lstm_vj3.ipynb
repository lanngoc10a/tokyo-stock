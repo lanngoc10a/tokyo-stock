{
 "cells": [
  {
   "cell_type": "markdown",
   "metadata": {},
   "source": [
    "<p>\n",
    "Prepared by Lan ngoc Nguyen. 2022. <br>\n",
    "Download data from: https://www.kaggle.com/competitions/jpx-tokyo-stock-exchange-prediction\n",
    "</p>\n",
    "\n",
    "<h2>PART 1. Data Pre-processing</h2>"
   ]
  },
  {
   "cell_type": "markdown",
   "metadata": {},
   "source": [
    "<h3>Step #0. Fire the system</h3>"
   ]
  },
  {
   "cell_type": "code",
   "execution_count": 1,
   "metadata": {
    "tags": []
   },
   "outputs": [],
   "source": [
    "# Import modules and packages\n",
    "import numpy as np\n",
    "import pandas as pd\n",
    "import matplotlib.pyplot as plt\n",
    "import datetime as dt\n",
    "from datetime import datetime\n",
    "\n",
    "from keras.callbacks import EarlyStopping, ReduceLROnPlateau, ModelCheckpoint, TensorBoard\n",
    "\n",
    "%matplotlib inline"
   ]
  },
  {
   "cell_type": "markdown",
   "metadata": {},
   "source": [
    "<h3>Step #1. Read data</h3>"
   ]
  },
  {
   "cell_type": "code",
   "execution_count": 2,
   "metadata": {
    "tags": []
   },
   "outputs": [
    {
     "name": "stdout",
     "output_type": "stream",
     "text": [
      "Current working directory: /Users/lan/Downloads/Github/Kaggle/jpx-tokyo-stock-exchange-prediction\n"
     ]
    }
   ],
   "source": [
    "import os\n",
    "\n",
    "path = '/Users/lan/Downloads/Github/Kaggle/jpx-tokyo-stock-exchange-prediction/'\n",
    "\n",
    "try:\n",
    "    os.chdir(path)\n",
    "    print(\"Current working directory: {0}\".format(os.getcwd()))\n",
    "except FileNotFoundError:\n",
    "    print(\"Directory: {0} does not exist\".format(path))\n",
    "    \n",
    "# Importing Training Set\n",
    "dataset_train = pd.read_csv(\"train_files/stock_prices.csv\")\n",
    "\n",
    "# Select features (columns) to be involved intro training and predictions\n",
    "cols = ['Open', 'High', 'Low', 'Close', 'Target']\n"
   ]
  },
  {
   "cell_type": "markdown",
   "metadata": {},
   "source": [
    "<h3>Step #2. Data pre-processing</h3>\n",
    "<p>\n",
    "Removing all commas and convert data to matrix shape format.\n",
    "</p>"
   ]
  },
  {
   "cell_type": "code",
   "execution_count": 3,
   "metadata": {
    "tags": []
   },
   "outputs": [
    {
     "name": "stdout",
     "output_type": "stream",
     "text": [
      "Training set shape == (1201, 6)\n",
      "All timestamps == 1201\n",
      "Featured selected: ['Open', 'High', 'Low', 'Close', 'Target']\n",
      "Shape of training set == (1201, 5).\n"
     ]
    },
    {
     "data": {
      "text/plain": [
       "array([[ 5.68000000e+02,  5.76000000e+02,  5.63000000e+02,\n",
       "         5.71000000e+02,  1.23239437e-02],\n",
       "       [ 5.72000000e+02,  5.73000000e+02,  5.65000000e+02,\n",
       "         5.68000000e+02, -2.26086957e-02],\n",
       "       [ 5.67000000e+02,  5.76000000e+02,  5.63000000e+02,\n",
       "         5.75000000e+02, -1.60142349e-02],\n",
       "       ...,\n",
       "       [ 5.68000000e+02,  5.78000000e+02,  5.68000000e+02,\n",
       "         5.74000000e+02,  2.09424084e-02],\n",
       "       [ 5.66000000e+02,  5.77000000e+02,  5.65000000e+02,\n",
       "         5.73000000e+02,  6.83760684e-03],\n",
       "       [ 5.79000000e+02,  5.85000000e+02,  5.70000000e+02,\n",
       "         5.85000000e+02, -5.60271647e-02]])"
      ]
     },
     "execution_count": 3,
     "metadata": {},
     "output_type": "execute_result"
    }
   ],
   "source": [
    "#dataset_train = dataset_train[cols].astype(str)\n",
    "#for i in cols:\n",
    "#    for j in range(0, len(dataset_train)):\n",
    "#        dataset_train[i][j] = dataset_train[i][j].replace(',', '')\n",
    "\n",
    "#dataset_train = dataset_train.astype(float)\n",
    "dataset_train = dataset_train.loc[dataset_train.SecuritiesCode==1332, cols+['Date']]\n",
    "\n",
    "dataset_train.dropna(inplace=True)\n",
    "\n",
    "\n",
    "# Extract dates (will be used in visualization)\n",
    "datelist_train = list(dataset_train['Date'])\n",
    "datelist_train = [dt.datetime.strptime(date, '%Y-%m-%d').date() for date in datelist_train]\n",
    "\n",
    "print('Training set shape == {}'.format(dataset_train.shape))\n",
    "print('All timestamps == {}'.format(len(datelist_train)))\n",
    "print('Featured selected: {}'.format(cols))\n",
    "\n",
    "dataset_train= dataset_train[cols].astype(float)\n",
    "\n",
    "# Using multiple features (predictors)\n",
    "training_set = dataset_train.values\n",
    "\n",
    "print('Shape of training set == {}.'.format(training_set.shape))\n",
    "training_set"
   ]
  },
  {
   "cell_type": "code",
   "execution_count": 4,
   "metadata": {
    "tags": []
   },
   "outputs": [
    {
     "data": {
      "text/plain": [
       "array([[ 0.65151433],\n",
       "       [-1.21559098],\n",
       "       [-0.86312541],\n",
       "       ...,\n",
       "       [ 1.11216035],\n",
       "       [ 0.35827658],\n",
       "       [-3.00176581]])"
      ]
     },
     "execution_count": 4,
     "metadata": {},
     "output_type": "execute_result"
    }
   ],
   "source": [
    "# Feature Scaling\n",
    "from sklearn.preprocessing import StandardScaler\n",
    "\n",
    "sc = StandardScaler()\n",
    "training_set_scaled = sc.fit_transform(training_set)\n",
    "\n",
    "sc_predict = StandardScaler()\n",
    "sc_predict.fit_transform(training_set[:, 4:5])"
   ]
  },
  {
   "cell_type": "code",
   "execution_count": 5,
   "metadata": {},
   "outputs": [
    {
     "data": {
      "text/plain": [
       "(1201, 5)"
      ]
     },
     "execution_count": 5,
     "metadata": {},
     "output_type": "execute_result"
    }
   ],
   "source": [
    "dataset_train.shape"
   ]
  },
  {
   "cell_type": "code",
   "execution_count": 6,
   "metadata": {
    "tags": []
   },
   "outputs": [
    {
     "name": "stdout",
     "output_type": "stream",
     "text": [
      "X_train shape == (1140, 60, 5).\n",
      "y_train shape == (1140, 1).\n"
     ]
    }
   ],
   "source": [
    "# Creating a data structure with 90 timestamps and 1 output\n",
    "X_train = []\n",
    "y_train = []\n",
    "\n",
    "n_future = 2   # Number of days we want to predict into the future\n",
    "n_past = 60     # Number of past days we want to use to predict the future\n",
    "\n",
    "for i in range(n_past, len(training_set_scaled) - n_future +1):\n",
    "    X_train.append(training_set_scaled[i - n_past:i, 0:dataset_train.shape[1]])\n",
    "    y_train.append(training_set_scaled[i + n_future - 1:i + n_future, -1])\n",
    "\n",
    "X_train, y_train = np.array(X_train), np.array(y_train)\n",
    "\n",
    "print('X_train shape == {}.'.format(X_train.shape))\n",
    "print('y_train shape == {}.'.format(y_train.shape))"
   ]
  },
  {
   "cell_type": "code",
   "execution_count": 7,
   "metadata": {},
   "outputs": [
    {
     "data": {
      "text/plain": [
       "array([-1.21559098])"
      ]
     },
     "execution_count": 7,
     "metadata": {},
     "output_type": "execute_result"
    }
   ],
   "source": [
    "training_set_scaled[1:2, -1]"
   ]
  },
  {
   "cell_type": "markdown",
   "metadata": {},
   "source": [
    "<h2>PART 2. Create a model. Training</h2>"
   ]
  },
  {
   "cell_type": "markdown",
   "metadata": {},
   "source": [
    "<h3>Step #3. Building the LSTM based Neural Network</h3>"
   ]
  },
  {
   "cell_type": "code",
   "execution_count": 8,
   "metadata": {},
   "outputs": [],
   "source": [
    "# Import Libraries and packages from Keras\n",
    "from keras.models import Sequential\n",
    "from keras.layers import Dense\n",
    "from keras.layers import LSTM\n",
    "from keras.layers import Dropout\n",
    "from tensorflow.keras.optimizers import Adam"
   ]
  },
  {
   "cell_type": "code",
   "execution_count": 9,
   "metadata": {
    "tags": []
   },
   "outputs": [],
   "source": [
    "# Initializing the Neural Network based on LSTM\n",
    "model = Sequential()\n",
    "\n",
    "# Adding 1st LSTM layer\n",
    "model.add(LSTM(units=64, return_sequences=True, input_shape=(n_past, dataset_train.shape[1])))\n",
    "\n",
    "# Adding 2nd LSTM layer\n",
    "model.add(LSTM(units=10, return_sequences=False))\n",
    "\n",
    "# Adding Dropout\n",
    "model.add(Dropout(0.25))\n",
    "\n",
    "# Output layer\n",
    "model.add(Dense(units=1, activation='linear'))\n",
    "\n",
    "# Compiling the Neural Network\n",
    "model.compile(optimizer = Adam(learning_rate=0.01), loss='mean_squared_error')"
   ]
  },
  {
   "cell_type": "markdown",
   "metadata": {},
   "source": [
    "<h3>Step #4. Start training</h3>"
   ]
  },
  {
   "cell_type": "code",
   "execution_count": 10,
   "metadata": {
    "scrolled": true,
    "tags": []
   },
   "outputs": [
    {
     "name": "stdout",
     "output_type": "stream",
     "text": [
      "Epoch 1/30\n",
      "8/8 [==============================] - ETA: 0s - loss: 1.1254\n",
      "Epoch 1: val_loss improved from inf to 0.95703, saving model to weights.h5\n",
      "8/8 [==============================] - 3s 144ms/step - loss: 1.1254 - val_loss: 0.9570 - lr: 0.0100\n",
      "Epoch 2/30\n",
      "7/8 [=========================>....] - ETA: 0s - loss: 1.0736\n",
      "Epoch 2: val_loss did not improve from 0.95703\n",
      "8/8 [==============================] - 0s 43ms/step - loss: 1.0681 - val_loss: 0.9778 - lr: 0.0100\n",
      "Epoch 3/30\n",
      "7/8 [=========================>....] - ETA: 0s - loss: 1.0330\n",
      "Epoch 3: val_loss did not improve from 0.95703\n",
      "8/8 [==============================] - 0s 43ms/step - loss: 1.0412 - val_loss: 0.9631 - lr: 0.0100\n",
      "Epoch 4/30\n",
      "7/8 [=========================>....] - ETA: 0s - loss: 0.9972\n",
      "Epoch 4: val_loss improved from 0.95703 to 0.95429, saving model to weights.h5\n",
      "8/8 [==============================] - 0s 44ms/step - loss: 1.0089 - val_loss: 0.9543 - lr: 0.0100\n",
      "Epoch 5/30\n",
      "7/8 [=========================>....] - ETA: 0s - loss: 1.0110\n",
      "Epoch 5: val_loss did not improve from 0.95429\n",
      "8/8 [==============================] - 0s 44ms/step - loss: 1.0022 - val_loss: 0.9631 - lr: 0.0100\n",
      "Epoch 6/30\n",
      "7/8 [=========================>....] - ETA: 0s - loss: 1.0124\n",
      "Epoch 6: val_loss did not improve from 0.95429\n",
      "8/8 [==============================] - 0s 44ms/step - loss: 1.0009 - val_loss: 0.9688 - lr: 0.0100\n",
      "Epoch 7/30\n",
      "7/8 [=========================>....] - ETA: 0s - loss: 0.9745\n",
      "Epoch 7: val_loss did not improve from 0.95429\n",
      "8/8 [==============================] - 0s 44ms/step - loss: 0.9995 - val_loss: 0.9577 - lr: 0.0100\n",
      "Epoch 8/30\n",
      "7/8 [=========================>....] - ETA: 0s - loss: 1.0173\n",
      "Epoch 8: val_loss did not improve from 0.95429\n",
      "8/8 [==============================] - 0s 43ms/step - loss: 1.0094 - val_loss: 0.9569 - lr: 0.0100\n",
      "Epoch 9/30\n",
      "7/8 [=========================>....] - ETA: 0s - loss: 0.9999\n",
      "Epoch 9: val_loss did not improve from 0.95429\n",
      "8/8 [==============================] - 0s 43ms/step - loss: 1.0050 - val_loss: 0.9759 - lr: 0.0100\n",
      "Epoch 10/30\n",
      "7/8 [=========================>....] - ETA: 0s - loss: 0.9969\n",
      "Epoch 10: val_loss did not improve from 0.95429\n",
      "8/8 [==============================] - 0s 43ms/step - loss: 1.0029 - val_loss: 0.9720 - lr: 0.0100\n",
      "Epoch 11/30\n",
      "7/8 [=========================>....] - ETA: 0s - loss: 0.9893\n",
      "Epoch 11: val_loss did not improve from 0.95429\n",
      "8/8 [==============================] - 0s 43ms/step - loss: 0.9914 - val_loss: 0.9563 - lr: 0.0100\n",
      "Epoch 12/30\n",
      "7/8 [=========================>....] - ETA: 0s - loss: 0.9929\n",
      "Epoch 12: val_loss did not improve from 0.95429\n",
      "8/8 [==============================] - 0s 44ms/step - loss: 0.9953 - val_loss: 0.9636 - lr: 0.0100\n",
      "Epoch 13/30\n",
      "7/8 [=========================>....] - ETA: 0s - loss: 0.9952\n",
      "Epoch 13: val_loss did not improve from 0.95429\n",
      "8/8 [==============================] - 0s 45ms/step - loss: 0.9883 - val_loss: 0.9640 - lr: 0.0100\n",
      "Epoch 14/30\n",
      "7/8 [=========================>....] - ETA: 0s - loss: 0.9856\n",
      "Epoch 14: ReduceLROnPlateau reducing learning rate to 0.004999999888241291.\n",
      "\n",
      "Epoch 14: val_loss did not improve from 0.95429\n",
      "8/8 [==============================] - 0s 44ms/step - loss: 0.9791 - val_loss: 0.9875 - lr: 0.0100\n",
      "Epoch 14: early stopping\n",
      "CPU times: user 15.6 s, sys: 4.54 s, total: 20.1 s\n",
      "Wall time: 7.89 s\n"
     ]
    }
   ],
   "source": [
    "%%time\n",
    "es = EarlyStopping(monitor='val_loss', min_delta=1e-10, patience=10, verbose=1)\n",
    "rlr = ReduceLROnPlateau(monitor='val_loss', factor=0.5, patience=10, verbose=1)\n",
    "mcp = ModelCheckpoint(filepath='weights.h5', monitor='val_loss', verbose=1, save_best_only=True, save_weights_only=True)\n",
    "\n",
    "tb = TensorBoard('logs')\n",
    "\n",
    "history = model.fit(X_train, y_train, shuffle=True, epochs=30, callbacks=[es, rlr, mcp, tb], validation_split=0.2, verbose=1, batch_size=128)"
   ]
  },
  {
   "cell_type": "code",
   "execution_count": 11,
   "metadata": {},
   "outputs": [
    {
     "data": {
      "image/png": "[encoded data removed]",
      "text/plain": [
       "<Figure size 432x288 with 1 Axes>"
      ]
     },
     "metadata": {
      "needs_background": "light"
     },
     "output_type": "display_data"
    }
   ],
   "source": [
    "def plot_loss(history):\n",
    "    plt.plot(history.history['val_loss'], label='val_loss')\n",
    "    #plt.plot(history.history['val_out_seq_loss'], label='val_out_seq_loss')\n",
    "    plt.xlabel('Epoch')\n",
    "    plt.ylabel('Loss')\n",
    "    plt.legend()\n",
    "    plt.grid(True)\n",
    "plot_loss(history)"
   ]
  },
  {
   "cell_type": "markdown",
   "metadata": {},
   "source": [
    "<p>\n",
    "Notes:<br>\n",
    "<ul>\n",
    "<li><b>EarlyStopping</b> - Stop training when a monitored metric has stopped improving.</li>\n",
    "<li><code>monitor</code> - quantity to be monitored.</li>\n",
    "<li><code>min_delta</code> - minimum change in the monitored quantity to qualify as an improvement, i.e. an absolute change of less than <code>min_delta</code>, will count as no improvement.</li>\n",
    "<li><code>patience</code> - number of epochs with no improvement after which training will be stopped.</li>\n",
    "</ul>\n",
    "\n",
    "<ul>\n",
    "<li><b>ReduceLROnPlateau</b> - Reduce learning rate when a metric has stopped improving.</li>\n",
    "<li><code>factor</code> - factor by which the learning rate will be reduced. <code>new_lr = lr * factor</code>.</li>\n",
    "</ul>\n",
    "</p>\n",
    "\n",
    "<hr>\n",
    "\n",
    "<p>\n",
    "The last date for our training set is <code>30-Dec-2016</code>.<br>\n",
    "</p>\n",
    "\n",
    "<p>\n",
    "We will perform predictions for the next <b>20</b> days, since <b>2017-01-01</b> to <b>2017-01-20</b>.\n",
    "</p>"
   ]
  },
  {
   "cell_type": "markdown",
   "metadata": {},
   "source": [
    "<h2>PART 3. Make future predictions</h2>"
   ]
  },
  {
   "cell_type": "code",
   "execution_count": 12,
   "metadata": {},
   "outputs": [],
   "source": [
    "# Generate list of sequence of days for predictions\n",
    "datelist_future = pd.date_range(datelist_train[-1], periods=n_future, freq='1d').tolist()\n",
    "\n",
    "'''\n",
    "Remeber, we have datelist_train from begining.\n",
    "'''\n",
    "\n",
    "# Convert Pandas Timestamp to Datetime object (for transformation) --> FUTURE\n",
    "datelist_future_ = []\n",
    "for this_timestamp in datelist_future:\n",
    "    datelist_future_.append(this_timestamp.date())"
   ]
  },
  {
   "cell_type": "code",
   "execution_count": 13,
   "metadata": {},
   "outputs": [
    {
     "data": {
      "text/plain": [
       "[Timestamp('2021-12-03 00:00:00', freq='D'),\n",
       " Timestamp('2021-12-04 00:00:00', freq='D')]"
      ]
     },
     "execution_count": 13,
     "metadata": {},
     "output_type": "execute_result"
    }
   ],
   "source": [
    "datelist_future"
   ]
  },
  {
   "cell_type": "markdown",
   "metadata": {},
   "source": [
    "<h3>Step #5. Make predictions for future dates</h3>"
   ]
  },
  {
   "cell_type": "code",
   "execution_count": 14,
   "metadata": {
    "tags": []
   },
   "outputs": [],
   "source": [
    "# Perform predictions\n",
    "predictions_train = model.predict(X_train[n_past:])\n",
    "\n",
    "predictions_future = model.predict(X_train[-n_future:])"
   ]
  },
  {
   "cell_type": "code",
   "execution_count": 15,
   "metadata": {
    "tags": []
   },
   "outputs": [
    {
     "data": {
      "text/html": [
       "<div>\n",
       "<style scoped>\n",
       "    .dataframe tbody tr th:only-of-type {\n",
       "        vertical-align: middle;\n",
       "    }\n",
       "\n",
       "    .dataframe tbody tr th {\n",
       "        vertical-align: top;\n",
       "    }\n",
       "\n",
       "    .dataframe thead th {\n",
       "        text-align: right;\n",
       "    }\n",
       "</style>\n",
       "<table border=\"1\" class=\"dataframe\">\n",
       "  <thead>\n",
       "    <tr style=\"text-align: right;\">\n",
       "      <th></th>\n",
       "      <th>Target</th>\n",
       "    </tr>\n",
       "  </thead>\n",
       "  <tbody>\n",
       "    <tr>\n",
       "      <th>2017-06-29</th>\n",
       "      <td>-0.000920</td>\n",
       "    </tr>\n",
       "    <tr>\n",
       "      <th>2017-06-30</th>\n",
       "      <td>-0.001209</td>\n",
       "    </tr>\n",
       "    <tr>\n",
       "      <th>2017-07-03</th>\n",
       "      <td>-0.000996</td>\n",
       "    </tr>\n",
       "  </tbody>\n",
       "</table>\n",
       "</div>"
      ],
      "text/plain": [
       "              Target\n",
       "2017-06-29 -0.000920\n",
       "2017-06-30 -0.001209\n",
       "2017-07-03 -0.000996"
      ]
     },
     "execution_count": 15,
     "metadata": {},
     "output_type": "execute_result"
    }
   ],
   "source": [
    "# Inverse the predictions to original measurements\n",
    "\n",
    "# ---> Special function: convert <datetime.date> to <Timestamp>\n",
    "def datetime_to_timestamp(x):\n",
    "    '''\n",
    "        x : a given datetime value (datetime.date)\n",
    "    '''\n",
    "    return datetime.strptime(x.strftime('%Y%m%d'), '%Y%m%d')\n",
    "\n",
    "\n",
    "y_pred_future = sc_predict.inverse_transform(predictions_future)\n",
    "y_pred_train = sc_predict.inverse_transform(predictions_train)\n",
    "\n",
    "PREDICTIONS_FUTURE = pd.DataFrame(y_pred_future, columns=['Target']).set_index(pd.Series(datelist_future))\n",
    "PREDICTION_TRAIN = pd.DataFrame(y_pred_train, columns=['Target']).set_index(pd.Series(datelist_train[2 * n_past + n_future -1:]))\n",
    "\n",
    "# Convert <datetime.date> to <Timestamp> for PREDCITION_TRAIN\n",
    "PREDICTION_TRAIN.index = PREDICTION_TRAIN.index.to_series().apply(datetime_to_timestamp)\n",
    "\n",
    "PREDICTION_TRAIN.head(3)\n"
   ]
  },
  {
   "cell_type": "markdown",
   "metadata": {},
   "source": [
    "<h3>Step #6. Visualize the Predictions</h3>"
   ]
  },
  {
   "cell_type": "code",
   "execution_count": 16,
   "metadata": {},
   "outputs": [
    {
     "data": {
      "image/png": "[encoded data removed]",
      "text/plain": [
       "<Figure size 1008x360 with 1 Axes>"
      ]
     },
     "metadata": {
      "needs_background": "light"
     },
     "output_type": "display_data"
    }
   ],
   "source": [
    "# Set plot size \n",
    "from pylab import rcParams\n",
    "rcParams['figure.figsize'] = 14, 5\n",
    "\n",
    "# Plot parameters\n",
    "START_DATE_FOR_PLOTTING = '2012-06-01'\n",
    "\n",
    "plt.plot(PREDICTIONS_FUTURE.index, PREDICTIONS_FUTURE['Target'], color='r', label='Predicted Stock Price')\n",
    "plt.plot(PREDICTION_TRAIN.loc[START_DATE_FOR_PLOTTING:].index, PREDICTION_TRAIN.loc[START_DATE_FOR_PLOTTING:]['Target'], color='orange', label='Training predictions')\n",
    "plt.plot(dataset_train.loc[START_DATE_FOR_PLOTTING:].index, dataset_train.loc[START_DATE_FOR_PLOTTING:]['Target'], color='b', label='Actual Stock Price')\n",
    "\n",
    "plt.axvline(x = min(PREDICTIONS_FUTURE.index), color='green', linewidth=2, linestyle='--')\n",
    "\n",
    "plt.grid(which='major', color='#cccccc', alpha=0.5)\n",
    "\n",
    "plt.legend(shadow=True)\n",
    "plt.title('Predcitions and Acutal Stock Prices', family='Arial', fontsize=12)\n",
    "plt.xlabel('Timeline', family='Arial', fontsize=10)\n",
    "plt.ylabel('Stock Price Value', family='Arial', fontsize=10)\n",
    "plt.xticks(rotation=45, fontsize=8)\n",
    "plt.show()"
   ]
  },
  {
   "cell_type": "code",
   "execution_count": 17,
   "metadata": {
    "tags": []
   },
   "outputs": [],
   "source": [
    "# Parse training set timestamp for better visualization\n",
    "dataset_train = pd.DataFrame(dataset_train, columns=cols)\n",
    "dataset_train.index = datelist_train\n",
    "dataset_train.index = pd.to_datetime(dataset_train.index)"
   ]
  }
 ],
 "metadata": {
  "kernelspec": {
   "display_name": "Python 3",
   "language": "python",
   "name": "python3"
  },
  "language_info": {
   "codemirror_mode": {
    "name": "ipython",
    "version": 3
   },
   "file_extension": ".py",
   "mimetype": "text/x-python",
   "name": "python",
   "nbconvert_exporter": "python",
   "pygments_lexer": "ipython3",
   "version": "3.8.8"
  }
 },
 "nbformat": 4,
 "nbformat_minor": 2
}
