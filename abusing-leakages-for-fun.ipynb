{
 "cells": [
  {
   "cell_type": "markdown",
   "id": "c35ebd63",
   "metadata": {
    "_cell_guid": "b1076dfc-b9ad-4769-8c92-a6c4dae69d19",
    "_uuid": "8f2839f25d086af736a60e9eeb907d3b93b6e0e5",
    "papermill": {
     "duration": 0.005656,
     "end_time": "2022-04-16T21:15:04.277730",
     "exception": false,
     "start_time": "2022-04-16T21:15:04.272074",
     "status": "completed"
    },
    "tags": []
   },
   "source": [
    "### After seeing [this notebook](https://www.kaggle.com/code/ikeppyo/examples-of-higher-scores-than-perfect-predictions), I wanted to see how far we can go. Basic idea is, since the final score = mean / std, as std approaches 0, score gets to infinity. Here, I just minimized the std as much as possible. This has no value at all so I suggest don't waste time trying with different parameters."
   ]
  },
  {
   "cell_type": "code",
   "execution_count": 1,
   "id": "84e81c18",
   "metadata": {
    "execution": {
     "iopub.execute_input": "2022-04-16T21:15:04.288841Z",
     "iopub.status.busy": "2022-04-16T21:15:04.288221Z",
     "iopub.status.idle": "2022-04-16T21:15:04.307056Z",
     "shell.execute_reply": "2022-04-16T21:15:04.306427Z"
    },
    "papermill": {
     "duration": 0.027112,
     "end_time": "2022-04-16T21:15:04.309564",
     "exception": false,
     "start_time": "2022-04-16T21:15:04.282452",
     "status": "completed"
    },
    "tags": []
   },
   "outputs": [],
   "source": [
    "import pandas as pd\n",
    "import numpy as np\n",
    "from warnings import filterwarnings\n",
    "filterwarnings(\"ignore\")\n",
    "\n",
    "def calc_spread_return_per_day(df, portfolio_size=200, toprank_weight_ratio=2):\n",
    "    assert df['Rank'].min() == 0\n",
    "    assert df['Rank'].max() == len(df['Rank']) - 1\n",
    "    weights = np.linspace(start=toprank_weight_ratio, stop=1, num=portfolio_size)\n",
    "    purchase = (df.sort_values(by='Rank')['Target'][:portfolio_size] * weights).sum() / weights.mean()\n",
    "    short = (df.sort_values(by='Rank', ascending=False)['Target'][:portfolio_size] * weights).sum() / weights.mean()\n",
    "    return purchase - short\n",
    "\n",
    "def calc_spread_return_sharpe(df: pd.DataFrame, portfolio_size=200, toprank_weight_ratio=2):\n",
    "    buf = df.groupby('Date').apply(calc_spread_return_per_day, portfolio_size, toprank_weight_ratio)\n",
    "    sharpe_ratio = buf.mean() / buf.std()\n",
    "    return sharpe_ratio, buf\n",
    "\n",
    "def add_rank(df):\n",
    "    df[\"Rank\"] = df.groupby(\"Date\")[\"Target\"].rank(ascending=False, method=\"first\") - 1 \n",
    "    df[\"Rank\"] = df[\"Rank\"].astype(\"int\")\n",
    "    return df\n",
    "\n",
    "def adjuster(ff, step=1, offset=95, cap=11.4):\n",
    "    org_score = calc_spread_return_per_day(ff)\n",
    "    if cap >= org_score: return ff.Rank.values\n",
    "    for i in range(0, 2000, step):\n",
    "        f, l = ff.index[i], ff.index[i+offset]\n",
    "        ff.loc[f, \"Rank\"], ff.loc[l, \"Rank\"] = ff.loc[l, \"Rank\"], ff.loc[f, \"Rank\"]\n",
    "        new_score = calc_spread_return_per_day(ff)\n",
    "        if cap >= new_score:\n",
    "            return ff.Rank.values"
   ]
  },
  {
   "cell_type": "code",
   "execution_count": 2,
   "id": "13550bae",
   "metadata": {
    "execution": {
     "iopub.execute_input": "2022-04-16T21:15:04.321100Z",
     "iopub.status.busy": "2022-04-16T21:15:04.320616Z",
     "iopub.status.idle": "2022-04-16T21:17:20.625922Z",
     "shell.execute_reply": "2022-04-16T21:17:20.625072Z"
    },
    "papermill": {
     "duration": 136.318945,
     "end_time": "2022-04-16T21:17:20.633605",
     "exception": false,
     "start_time": "2022-04-16T21:15:04.314660",
     "status": "completed"
    },
    "tags": []
   },
   "outputs": [
    {
     "data": {
      "text/plain": [
       "(11.397067221625909,\n",
       " 0.003997576775717838,\n",
       " 2850.9939548514003,\n",
       " 11.376374792663487,\n",
       " 11.399967304242807)"
      ]
     },
     "execution_count": 2,
     "metadata": {},
     "output_type": "execute_result"
    }
   ],
   "source": [
    "df = pd.read_csv('../input/jpx-tokyo-stock-exchange-prediction/supplemental_files/stock_prices.csv', parse_dates=[\"Date\"])\n",
    "df = add_rank(df)\n",
    "df = df.sort_values([\"Date\", \"Rank\"])\n",
    "\n",
    "for date in df.Date.unique():\n",
    "    df.loc[df.Date==date, \"Rank\"] = adjuster(df[df.Date==date])\n",
    "\n",
    "_, buf = calc_spread_return_sharpe(df)\n",
    "buf.mean(), buf.std(), buf.mean() / buf.std(), buf.min(), buf.max()"
   ]
  },
  {
   "cell_type": "code",
   "execution_count": 3,
   "id": "2be6f8fc",
   "metadata": {
    "execution": {
     "iopub.execute_input": "2022-04-16T21:17:20.645845Z",
     "iopub.status.busy": "2022-04-16T21:17:20.645168Z",
     "iopub.status.idle": "2022-04-16T21:17:20.910432Z",
     "shell.execute_reply": "2022-04-16T21:17:20.909695Z"
    },
    "papermill": {
     "duration": 0.273758,
     "end_time": "2022-04-16T21:17:20.912628",
     "exception": false,
     "start_time": "2022-04-16T21:17:20.638870",
     "status": "completed"
    },
    "tags": []
   },
   "outputs": [
    {
     "name": "stdout",
     "output_type": "stream",
     "text": [
      "This version of the API is not optimized and should not be used to estimate the runtime of your code on the hidden test set.\n"
     ]
    }
   ],
   "source": [
    "import jpx_tokyo_market_prediction\n",
    "env = jpx_tokyo_market_prediction.make_env()\n",
    "iter_test = env.iter_test()\n",
    "for prices, _, _, _, _, sample_prediction in iter_test:\n",
    "    ff = df[df['Date']==prices[\"Date\"].iloc[0]]\n",
    "    mp = ff.set_index(\"SecuritiesCode\")[\"Rank\"]\n",
    "    sample_prediction[\"Rank\"] = sample_prediction.SecuritiesCode.map(mp)\n",
    "    env.predict(sample_prediction)"
   ]
  }
 ],
 "metadata": {
  "kernelspec": {
   "display_name": "Python 3",
   "language": "python",
   "name": "python3"
  },
  "language_info": {
   "codemirror_mode": {
    "name": "ipython",
    "version": 3
   },
   "file_extension": ".py",
   "mimetype": "text/x-python",
   "name": "python",
   "nbconvert_exporter": "python",
   "pygments_lexer": "ipython3",
   "version": "3.7.12"
  },
  "papermill": {
   "default_parameters": {},
   "duration": 146.821158,
   "end_time": "2022-04-16T21:17:21.539570",
   "environment_variables": {},
   "exception": null,
   "input_path": "__notebook__.ipynb",
   "output_path": "__notebook__.ipynb",
   "parameters": {},
   "start_time": "2022-04-16T21:14:54.718412",
   "version": "2.3.4"
  }
 },
 "nbformat": 4,
 "nbformat_minor": 5
}
